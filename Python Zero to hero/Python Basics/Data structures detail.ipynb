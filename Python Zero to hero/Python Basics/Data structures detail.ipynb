{
 "cells": [
  {
   "cell_type": "markdown",
   "metadata": {},
   "source": [
    "## Data Structures in Python"
   ]
  },
  {
   "cell_type": "markdown",
   "metadata": {},
   "source": [
    "### Basic s Of Python\n",
    "\n",
    "1. Value\n",
    "2. Variable\n",
    "3. Function\n",
    "4. Library"
   ]
  },
  {
   "cell_type": "code",
   "execution_count": null,
   "metadata": {},
   "outputs": [],
   "source": [
    "# Type of Value\n",
    "print(f'''1. Type of 100 is: {type(100)}\n",
    "2. Type of ABC is: {type(\"ABC\")}\n",
    "3. Type of 34.278 is: {type(34.278)}\n",
    "4. Type of 23+3i) is: {(type(23+3j))}\n",
    "5. Type of True is :{type(True)}\n",
    "\n",
    "''')"
   ]
  },
  {
   "cell_type": "code",
   "execution_count": 1,
   "metadata": {},
   "outputs": [],
   "source": [
    "# Variable\n",
    "\n",
    "Age=35\n",
    "name=\"Vasuki\"\n",
    "salary=100.50\n",
    "is_active= True"
   ]
  },
  {
   "cell_type": "code",
   "execution_count": 2,
   "metadata": {},
   "outputs": [
    {
     "name": "stdout",
     "output_type": "stream",
     "text": [
      "1 Integer. 35\n",
      "      \n",
      "2 String. Vasuki\n",
      "      \n",
      "3 Float. 100.5\n",
      "      \n",
      "4 Boolean. True\n",
      "\n",
      "      \n"
     ]
    }
   ],
   "source": [
    "print(f\"\"\"1 Integer. {Age}\n",
    "      \\n2 String. {name}\n",
    "      \\n3 Float. {salary}\n",
    "      \\n4 Boolean. {is_active}\n",
    "\n",
    "      \"\"\")"
   ]
  },
  {
   "cell_type": "markdown",
   "metadata": {},
   "source": [
    "### Comments"
   ]
  },
  {
   "cell_type": "code",
   "execution_count": 3,
   "metadata": {},
   "outputs": [
    {
     "name": "stdout",
     "output_type": "stream",
     "text": [
      "None\n"
     ]
    }
   ],
   "source": [
    "def func_comments():\n",
    "    \"\"\" Three double quotes for Multi-line comments \"\"\"\n",
    "    pass\n",
    "\n",
    "# Single Line Comments - # tag is used\n",
    "\n",
    "print(func_comments())\n"
   ]
  },
  {
   "cell_type": "markdown",
   "metadata": {},
   "source": [
    "### Operators"
   ]
  },
  {
   "cell_type": "code",
   "execution_count": 4,
   "metadata": {},
   "outputs": [
    {
     "name": "stdout",
     "output_type": "stream",
     "text": [
      " 1. Addition 150 + 20 = 170\n",
      "2. Subtraction 150 -20 = 130\n",
      "3. Multiplication 150 * 20 = 3000\n",
      "4. Division 150 / 20 = 7.5\n",
      "5. Modulus 150  % 20 = 10\n",
      "6. Floor Division 150  // 20 = 7\n",
      "7. Exponentiation 150 ** 20 =33252567300796508789062500000000000000000000\n",
      "\n",
      "      \n"
     ]
    }
   ],
   "source": [
    "# 1. Arithmetic Operators\n",
    "\n",
    "number_1=150\n",
    "number_2=20\n",
    "\n",
    "print(f\"\"\" 1. Addition {number_1} + {number_2} = {number_1 + number_2}\n",
    "2. Subtraction {number_1} -{number_2} = {number_1 - number_2}\n",
    "3. Multiplication {number_1} * {number_2} = {number_1 * number_2}\n",
    "4. Division {number_1} / {number_2} = {number_1 / number_2}\n",
    "5. Modulus {number_1}  % {number_2} = {number_1 % number_2}\n",
    "6. Floor Division {number_1}  // {number_2} = {number_1 // number_2}\n",
    "7. Exponentiation {number_1} ** {number_2} ={number_1 ** number_2}\n",
    "\n",
    "      \"\"\")\n"
   ]
  },
  {
   "cell_type": "code",
   "execution_count": 5,
   "metadata": {},
   "outputs": [
    {
     "name": "stdout",
     "output_type": "stream",
     "text": [
      " 1.Square root,4.47213595499958\n",
      "2. Power,400.0\n",
      "3. Ceil, 8\n",
      "4. pi, 3.141592653589793\n",
      "5. math.factorial of 20, 2432902008176640000\n",
      "      \n"
     ]
    }
   ],
   "source": [
    "# Mathematical Functions and constants\n",
    "\n",
    "import math\n",
    "print(f\"\"\" 1.Square root,{math.sqrt(number_2)}\n",
    "2. Power,{math.pow(number_2,2)}\n",
    "3. Ceil, {math.ceil(number_1/ number_2)}\n",
    "4. pi, {math.pi}\n",
    "5. math.factorial of {number_2}, {math.factorial(number_2)}\n",
    "      \"\"\")"
   ]
  },
  {
   "cell_type": "code",
   "execution_count": null,
   "metadata": {},
   "outputs": [
    {
     "data": {
      "text/plain": [
       "['False',\n",
       " 'None',\n",
       " 'True',\n",
       " 'and',\n",
       " 'as',\n",
       " 'assert',\n",
       " 'async',\n",
       " 'await',\n",
       " 'break',\n",
       " 'class',\n",
       " 'continue',\n",
       " 'def',\n",
       " 'del',\n",
       " 'elif',\n",
       " 'else',\n",
       " 'except',\n",
       " 'finally',\n",
       " 'for',\n",
       " 'from',\n",
       " 'global',\n",
       " 'if',\n",
       " 'import',\n",
       " 'in',\n",
       " 'is',\n",
       " 'lambda',\n",
       " 'nonlocal',\n",
       " 'not',\n",
       " 'or',\n",
       " 'pass',\n",
       " 'raise',\n",
       " 'return',\n",
       " 'try',\n",
       " 'while',\n",
       " 'with',\n",
       " 'yield']"
      ]
     },
     "execution_count": 6,
     "metadata": {},
     "output_type": "execute_result"
    }
   ],
   "source": [
    "# Keywords in Python\n",
    "import keyword\n",
    "keyword.kwlist"
   ]
  },
  {
   "cell_type": "markdown",
   "metadata": {},
   "source": [
    "#### Data Structures in Python\n",
    "\n",
    "1. List - 1D, list(), [], Mutable\n",
    "\n",
    "2. Tuple - 1D, tuple(), (), without(), Immutable\n",
    "\n",
    "3. Set - 1D, To Pick Unique Set of Values, set(), {}\n",
    "\n",
    "4. Dict - 2D, dict(), {}, Key-Value Pair"
   ]
  },
  {
   "cell_type": "markdown",
   "metadata": {},
   "source": [
    "### LIST\n",
    "1. Ordered: Elements have a defined order and that order will not change unless you do something to change it.\n",
    "\n",
    "2. Mutable: You can change, add, or remove elements after the list has been created.\n",
    "\n",
    "3. Allows Duplicates: Lists can contain repeated values.\n",
    "\n",
    "4. Can hold mixed data types: Integers, strings, other lists, etc.\n",
    "\n",
    "### TUPLE\n",
    "\n",
    "1. Ordered: Items have a fixed position.\n",
    "\n",
    "2. Immutable: You cannot change, add, or remove elements after it's created.\n",
    "\n",
    "3. Allows duplicates\n",
    "\n",
    "4. Can hold mixed data types\n",
    "5. faster than list\n",
    "\n",
    "### SET\n",
    "1. Unordered: No guaranteed order.\n",
    "\n",
    "2. No duplicates: All elements are unique.\n",
    "\n",
    "3. Mutable: You can add or remove items.\n",
    "\n",
    "4. Used for: Membership testing, removing duplicates, set operations (like union, intersection).\n",
    "\n",
    "### DICT\n",
    "\n",
    "1. Keys are unique\n",
    "\n",
    "2. Mutable\n",
    "\n",
    "3. Fast lookup\n",
    "\n",
    "4. Think of it like a real-world dictionary:\n",
    "'word' : 'definition'"
   ]
  },
  {
   "cell_type": "code",
   "execution_count": 14,
   "metadata": {},
   "outputs": [],
   "source": [
    "# List\n",
    "\n",
    "Class_List=['First','Second',' Third','Fourth']  # List\n",
    "Class_tuple=('First','Second',3,5,67)  # Tuple\n",
    "Class_Set={'Rect','Circle','Square','Triangle'} # Set\n",
    "Class_Dict={\"Name\":\"Vasuki\",\n",
    "            \"Age\":25,\n",
    "            \"Height\":172,\n",
    "            \"Weight\":90,\n",
    "            \"place\":\"Oxford\"\n",
    "            } # Dictionary\n"
   ]
  },
  {
   "cell_type": "code",
   "execution_count": 8,
   "metadata": {},
   "outputs": [
    {
     "name": "stdout",
     "output_type": "stream",
     "text": [
      "1. List : ['First', 'Second', ' Third', 'Fourth'] \n",
      "2. Tuple : ('First', 'Second', 3, 5, 67) \n",
      "3. Set :{'Rect', 'Square', 'Circle', 'Triangle'} \n",
      "4. Dictionary :{'Name': 'Vasuki', 'Age': 25, 'Height': 172, 'Weight': 90, 'place': 'Oxford'} \n"
     ]
    }
   ],
   "source": [
    "print(f\"1. List : {Class_List} \\n2. Tuple : {Class_tuple} \\n3. Set :{Class_Set} \\n4. Dictionary :{Class_Dict} \")"
   ]
  },
  {
   "cell_type": "code",
   "execution_count": null,
   "metadata": {},
   "outputs": [
    {
     "data": {
      "text/plain": [
       "'\\nC - Create\\nR - Read\\nU - Update\\nD - Delete\\n'"
      ]
     },
     "execution_count": 9,
     "metadata": {},
     "output_type": "execute_result"
    }
   ],
   "source": [
    "\"\"\"\n",
    "C - Create\n",
    "R - Read\n",
    "U - Update\n",
    "D - Delete\n",
    "\"\"\""
   ]
  },
  {
   "cell_type": "code",
   "execution_count": 10,
   "metadata": {},
   "outputs": [
    {
     "name": "stdout",
     "output_type": "stream",
     "text": [
      "['First', 'Second', ' Third', 'Fourth', 'Fifth']\n",
      " 1st element : First\n",
      "\n",
      " second element: Second \n",
      "\n",
      " Whole List: ['First', 'Second', ' Third', 'Fourth', 'Fifth']\n",
      "\n",
      " Last :Fifth\n",
      "\n",
      " 2nd to end :['Second', ' Third', 'Fourth', 'Fifth']\n",
      "\n",
      " Last 2 elements :['Fourth', 'Fifth']\n",
      "\n",
      " 2nd to fourth :['Second', ' Third', 'Fourth']\n",
      "\n",
      " length :5\n",
      "\n",
      "\n",
      " \n"
     ]
    }
   ],
   "source": [
    "Class_List.append(\"Fifth\")\n",
    "print(Class_List)\n",
    "print(f\"\"\" 1st element : {Class_List[0]}\n",
    "\\n second element: {Class_List[1]} \n",
    "\\n Whole List: {Class_List[:]}\n",
    "\\n Last :{Class_List[-1]}\n",
    "\\n 2nd to end :{Class_List[1:]}\n",
    "\\n Last 2 elements :{Class_List[-2:]}\n",
    "\\n 2nd to fourth :{Class_List[1:4]}\n",
    "\\n length :{len(Class_List)}\n",
    "\n",
    "\\n \"\"\") "
   ]
  },
  {
   "cell_type": "code",
   "execution_count": null,
   "metadata": {},
   "outputs": [],
   "source": [
    "Class_List.remove(8) # removing an element\n",
    "Class_List.reverse() # reversing a list\n",
    "Class_List.pop(1)\n",
    "Class_List.insert(len(Class_List)+1,768)\n",
    "Class_List.index(768)"
   ]
  },
  {
   "cell_type": "markdown",
   "metadata": {},
   "source": [
    "### Tuple"
   ]
  },
  {
   "cell_type": "code",
   "execution_count": 11,
   "metadata": {},
   "outputs": [
    {
     "data": {
      "text/plain": [
       "('First', 'Second', 3)"
      ]
     },
     "execution_count": 11,
     "metadata": {},
     "output_type": "execute_result"
    }
   ],
   "source": [
    "Class_tuple[:3]"
   ]
  },
  {
   "cell_type": "code",
   "execution_count": null,
   "metadata": {},
   "outputs": [],
   "source": [
    "dir(Class_tuple)"
   ]
  },
  {
   "cell_type": "code",
   "execution_count": 13,
   "metadata": {},
   "outputs": [
    {
     "data": {
      "text/plain": [
       "tuple"
      ]
     },
     "execution_count": 13,
     "metadata": {},
     "output_type": "execute_result"
    }
   ],
   "source": [
    "type(Class_tuple)"
   ]
  },
  {
   "cell_type": "code",
   "execution_count": 16,
   "metadata": {},
   "outputs": [],
   "source": [
    "# tuple is immutable\n",
    "Class_tuple_demo=list(Class_tuple)\n",
    "Class_tuple_demo[2]=\"Megha\""
   ]
  },
  {
   "cell_type": "code",
   "execution_count": 17,
   "metadata": {},
   "outputs": [
    {
     "data": {
      "text/plain": [
       "28"
      ]
     },
     "execution_count": 17,
     "metadata": {},
     "output_type": "execute_result"
    }
   ],
   "source": [
    "Class_tuple_demo[4].__sizeof__()  # Check the memory size of an element in a tuple"
   ]
  },
  {
   "cell_type": "markdown",
   "metadata": {},
   "source": [
    "### SET"
   ]
  },
  {
   "cell_type": "code",
   "execution_count": 18,
   "metadata": {},
   "outputs": [
    {
     "data": {
      "text/plain": [
       "{'Circle', 'Rect', 'Square', 'Triangle'}"
      ]
     },
     "execution_count": 18,
     "metadata": {},
     "output_type": "execute_result"
    }
   ],
   "source": [
    "Class_Set"
   ]
  },
  {
   "cell_type": "code",
   "execution_count": null,
   "metadata": {},
   "outputs": [],
   "source": [
    "Class_Set.add(\"Hexagon\")\n",
    "Class_Set.update([\"penta\",\"Octa\"])\n",
    "dir(Class_Set)\n",
    "Class_Set.remove(\"Octa\")\n",
    "Class_Set.discard(\"Rect\")\n",
    "Class_Set.symmetric_difference('penta')\n",
    "\n",
    "\n"
   ]
  },
  {
   "cell_type": "markdown",
   "metadata": {},
   "source": [
    "### Dictionary"
   ]
  },
  {
   "cell_type": "code",
   "execution_count": 20,
   "metadata": {},
   "outputs": [
    {
     "data": {
      "text/plain": [
       "{'Name': 'Vasuki', 'Age': 25, 'Height': 172, 'Weight': 90, 'place': 'Oxford'}"
      ]
     },
     "execution_count": 20,
     "metadata": {},
     "output_type": "execute_result"
    }
   ],
   "source": [
    "Class_Dict"
   ]
  },
  {
   "cell_type": "code",
   "execution_count": 21,
   "metadata": {},
   "outputs": [
    {
     "name": "stdout",
     "output_type": "stream",
     "text": [
      "Vasuki\n",
      "25\n"
     ]
    }
   ],
   "source": [
    "print(Class_Dict.get(\"Name\"))\n",
    "print(Class_Dict[\"Age\"])\n",
    "Class_Dict[\"Age\"]=3\n",
    "Class_Dict[\"Height\"]=120"
   ]
  },
  {
   "cell_type": "code",
   "execution_count": 22,
   "metadata": {},
   "outputs": [],
   "source": [
    "del Class_Dict[\"Weight\"]"
   ]
  },
  {
   "cell_type": "code",
   "execution_count": 23,
   "metadata": {},
   "outputs": [
    {
     "data": {
      "text/plain": [
       "['__class__',\n",
       " '__class_getitem__',\n",
       " '__contains__',\n",
       " '__delattr__',\n",
       " '__delitem__',\n",
       " '__dir__',\n",
       " '__doc__',\n",
       " '__eq__',\n",
       " '__format__',\n",
       " '__ge__',\n",
       " '__getattribute__',\n",
       " '__getitem__',\n",
       " '__getstate__',\n",
       " '__gt__',\n",
       " '__hash__',\n",
       " '__init__',\n",
       " '__init_subclass__',\n",
       " '__ior__',\n",
       " '__iter__',\n",
       " '__le__',\n",
       " '__len__',\n",
       " '__lt__',\n",
       " '__ne__',\n",
       " '__new__',\n",
       " '__or__',\n",
       " '__reduce__',\n",
       " '__reduce_ex__',\n",
       " '__repr__',\n",
       " '__reversed__',\n",
       " '__ror__',\n",
       " '__setattr__',\n",
       " '__setitem__',\n",
       " '__sizeof__',\n",
       " '__str__',\n",
       " '__subclasshook__',\n",
       " 'clear',\n",
       " 'copy',\n",
       " 'fromkeys',\n",
       " 'get',\n",
       " 'items',\n",
       " 'keys',\n",
       " 'pop',\n",
       " 'popitem',\n",
       " 'setdefault',\n",
       " 'update',\n",
       " 'values']"
      ]
     },
     "execution_count": 23,
     "metadata": {},
     "output_type": "execute_result"
    }
   ],
   "source": [
    "dir(Class_Dict)"
   ]
  },
  {
   "cell_type": "code",
   "execution_count": null,
   "metadata": {},
   "outputs": [],
   "source": []
  }
 ],
 "metadata": {
  "kernelspec": {
   "display_name": "Python 3",
   "language": "python",
   "name": "python3"
  },
  "language_info": {
   "codemirror_mode": {
    "name": "ipython",
    "version": 3
   },
   "file_extension": ".py",
   "mimetype": "text/x-python",
   "name": "python",
   "nbconvert_exporter": "python",
   "pygments_lexer": "ipython3",
   "version": "3.12.6"
  }
 },
 "nbformat": 4,
 "nbformat_minor": 2
}
