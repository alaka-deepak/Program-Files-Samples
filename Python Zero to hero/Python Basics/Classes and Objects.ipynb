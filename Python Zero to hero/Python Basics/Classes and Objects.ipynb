{
 "cells": [
  {
   "cell_type": "markdown",
   "metadata": {},
   "source": [
    "🧱 Step 1: What is OOP?\n",
    "OOP (Object-Oriented Programming) is a way to write code that models real-world things — using classes and objects.\n",
    "\n",
    "🤔 Think Like This:\n",
    "You = Object\n",
    "\n",
    "You are built from a class called Human\n",
    "\n",
    "You have attributes: name, age, height\n",
    "\n",
    "You can do actions: walk, talk, sleep\n",
    "\n"
   ]
  },
  {
   "cell_type": "code",
   "execution_count": 15,
   "metadata": {},
   "outputs": [
    {
     "name": "stdout",
     "output_type": "stream",
     "text": [
      "Hi, I'm Alice and I'm 25 years old\n"
     ]
    }
   ],
   "source": [
    "##__init__ is the constructor method in Python classes. It runs automatically when you create a new object from a class.\n",
    "class person:\n",
    "    def  __init__(self,name,age):  # init is a constructor- it runs automatically when an object is created.\n",
    "        #self -- refers current object   \"this\"\n",
    "        self.name=name\n",
    "        self.age=age\n",
    "\n",
    "    def say_hello(self):\n",
    "        print(f\"Hi, I'm {self.name} and I'm {self.age} years old\")\n",
    "\n",
    "p1=person(\"Alice\",25)\n",
    "p1.say_hello()"
   ]
  },
  {
   "cell_type": "code",
   "execution_count": 7,
   "metadata": {},
   "outputs": [
    {
     "name": "stdout",
     "output_type": "stream",
     "text": [
      "<class '__main__.car'>\n"
     ]
    }
   ],
   "source": [
    "class car:\n",
    "      pass # No error  -place holder for now, no attributes\n",
    "audi=car()\n",
    "bmw=car()\n",
    "\n",
    "print(type(audi))"
   ]
  },
  {
   "cell_type": "code",
   "execution_count": 8,
   "metadata": {},
   "outputs": [
    {
     "name": "stdout",
     "output_type": "stream",
     "text": [
      "4\n"
     ]
    }
   ],
   "source": [
    "audi.windows=4\n",
    "print(audi.windows)"
   ]
  },
  {
   "cell_type": "code",
   "execution_count": null,
   "metadata": {},
   "outputs": [
    {
     "name": "stdout",
     "output_type": "stream",
     "text": [
      "<__main__.Dog object at 0x10685b380>\n",
      "Buddy 34\n"
     ]
    }
   ],
   "source": [
    "#Instance variable and Methods\n",
    "class Dog:\n",
    "    # Constructor\n",
    "    def __init__(self,name,age):# keyword, self not perticular\n",
    "        self.name=name\n",
    "        self.age=age\n",
    "dog_ob=Dog(\"Buddy\",34)\n",
    "print(dog_ob)\n",
    "print(dog_ob.name,dog_ob.age)\n",
    "\n",
    "\n"
   ]
  },
  {
   "cell_type": "code",
   "execution_count": 18,
   "metadata": {},
   "outputs": [
    {
     "name": "stdout",
     "output_type": "stream",
     "text": [
      "Buddy says wooof, he has only 34 years\n"
     ]
    }
   ],
   "source": [
    "# Define a class using Instance method\n",
    "\n",
    "class Dog:\n",
    "    def __init__(self,name,age):\n",
    "        self.name=name\n",
    "        self.age=age\n",
    "\n",
    "    def barking(self):\n",
    "        print(f\"{self.name} says wooof, he has only {self.age} years\")\n",
    "\n",
    "\n",
    "obj_dog=Dog(\"Buddy\",34)\n",
    "obj_dog.barking()\n"
   ]
  },
  {
   "cell_type": "code",
   "execution_count": 26,
   "metadata": {},
   "outputs": [
    {
     "name": "stdout",
     "output_type": "stream",
     "text": [
      "5000\n"
     ]
    }
   ],
   "source": [
    "# Modelling a bank account\n",
    "\n",
    "# Define a class for bank account\n",
    "class BankAccount:\n",
    "    def __init__(self,owner,balance=0):\n",
    "        self.owner=owner\n",
    "        self.balance=balance\n",
    "\n",
    "    def deposit(self,amount):\n",
    "        self.balance+=amount\n",
    "        print(f\"{amount} is deposited.New balance is {self.balance}\")\n",
    "    \n",
    "    def withdraw(self,amount):\n",
    "        if amount>self.balance:\n",
    "            print(\"Insufficient fund\")\n",
    "        else:\n",
    "            print(f\"{amount} is withdrawn, New balance is {self.balance}\")\n",
    "\n",
    "    def get_balance(self):\n",
    "        return self.balance\n",
    "    \n",
    "\n",
    "bank_obj=BankAccount(\"Mahi\",5000)\n",
    "print(bank_obj.balance)\n"
   ]
  },
  {
   "cell_type": "markdown",
   "metadata": {},
   "source": [
    "### Inheritance\n",
    "\n",
    "<li> Inheritance allows us to define a class that inherits all the methods and properties from another class.\n",
    "<li> Parent class is the class being inherited from, also called base class.\n",
    "\n",
    "<li>Child class is the class that inherits from another class, also called derived class."
   ]
  },
  {
   "cell_type": "code",
   "execution_count": null,
   "metadata": {},
   "outputs": [
    {
     "name": "stdout",
     "output_type": "stream",
     "text": [
      "Mahi is driving a car of engine type Pertrol\n"
     ]
    }
   ],
   "source": [
    "class Car:\n",
    "    def __init__(self,name,windows,doors,enginetype):\n",
    "        self.name=name\n",
    "        self.windows=windows\n",
    "        self.doors=doors\n",
    "        self.engine=enginetype\n",
    "    def driving(self):\n",
    "        print(f\"{self.name} is driving a car of engine type {self.engine}\")\n",
    "\n",
    "car1=Car(\"Mahi\",4,5,\"Pertrol\")\n",
    "car1.driving()\n",
    "\n",
    "# Tesla having the same features\n",
    "\n",
    "class Tesla(Car):\n",
    "    def __init__(self,windows,doors,enginetype,is_selfdriving):\n",
    "        super().__init__(windows,doors,enginetype,is_selfdriving)  \n",
    "        self.is_selfdriv=is_selfdriving\n",
    "\n",
    "    def selfdriving(self):\n",
    "        print(f\"Tesla supports self driving : {self.is_selfdriv}\")"
   ]
  },
  {
   "cell_type": "code",
   "execution_count": null,
   "metadata": {},
   "outputs": [
    {
     "name": "stdout",
     "output_type": "stream",
     "text": [
      "Tesla supports self driving : True\n"
     ]
    }
   ],
   "source": [
    "tesla1=Tesla(4,5,\"electric\",True)\n",
    "tesla1.selfdriving()"
   ]
  },
  {
   "cell_type": "code",
   "execution_count": 10,
   "metadata": {},
   "outputs": [
    {
     "name": "stdout",
     "output_type": "stream",
     "text": [
      "Buddy say woof\n",
      "Owner is Manu\n"
     ]
    }
   ],
   "source": [
    "# Base class 1\n",
    "class Animal:\n",
    "    def __init__(self,name):\n",
    "        self.name=name\n",
    "    def speak(self):\n",
    "        print(\"Implement this method:\")\n",
    "\n",
    "#Base class 2\n",
    "class pet:\n",
    "    def __init__(self,owner):\n",
    "        self.owner=owner\n",
    "\n",
    "# Dervived class\n",
    "class Dog(Animal,pet):\n",
    "    def __init__(self,name,owner):\n",
    "        Animal.__init__(self,name)\n",
    "        pet.__init__(self,owner)\n",
    "\n",
    "    def speak(self):\n",
    "        return f\"{self.name} say woof\"\n",
    "    \n",
    "## Create an object\n",
    "\n",
    "dog=Dog(\"Buddy\",\"Manu\")\n",
    "print(dog.speak())\n",
    "print(f\"Owner is {dog.owner}\")\n"
   ]
  },
  {
   "cell_type": "markdown",
   "metadata": {},
   "source": [
    "### Polymorphism"
   ]
  },
  {
   "cell_type": "markdown",
   "metadata": {},
   "source": [
    " <li> Objects of different classes to be treated as objects of a common superclass.\n",
    "<li> Perform single action in different forms.\n",
    "<li> Overriding and interfaces\n",
    "\n",
    "<li> Cleaner code\n",
    "\n",
    "<li> Easier to extend (Open/Closed Principle)\n",
    "\n",
    "<li>Promotes encapsulation and modularity\n",
    "\n",
    "<li> Allows interchangeable object use"
   ]
  },
  {
   "cell_type": "code",
   "execution_count": 13,
   "metadata": {},
   "outputs": [
    {
     "name": "stdout",
     "output_type": "stream",
     "text": [
      "Woo\n"
     ]
    }
   ],
   "source": [
    "# Classic polymorphsm via inheritance\n",
    "class Animal:\n",
    "    def speak(self):\n",
    "        return \"Some Sound\"\n",
    "    \n",
    "class Dog(Animal):\n",
    "    def speak(self):\n",
    "        return \"Woo\"\n",
    "dog=Dog()\n",
    "print(dog.speak())"
   ]
  },
  {
   "cell_type": "markdown",
   "metadata": {},
   "source": [
    "### Method overriding\n",
    "\n"
   ]
  },
  {
   "cell_type": "code",
   "execution_count": 14,
   "metadata": {},
   "outputs": [
    {
     "name": "stdout",
     "output_type": "stream",
     "text": [
      "Woof!\n",
      "Meow!\n"
     ]
    }
   ],
   "source": [
    "class Animal:\n",
    "    def speak(self):\n",
    "        return \"Some sound\"\n",
    "\n",
    "class Dog(Animal):\n",
    "    def speak(self):\n",
    "        return \"Woof!\"\n",
    "\n",
    "class Cat(Animal):\n",
    "    def speak(self):\n",
    "        return \"Meow!\"\n",
    "\n",
    "# Polymorphic behavior\n",
    "for animal in [Dog(), Cat()]:\n",
    "    print(animal.speak())\n"
   ]
  },
  {
   "cell_type": "markdown",
   "metadata": {},
   "source": [
    "MLops with github\n",
    "Made with ML\n",
    "MLOps Specialization Coursera,\n",
    "pip is -"
   ]
  },
  {
   "cell_type": "code",
   "execution_count": null,
   "metadata": {},
   "outputs": [
    {
     "name": "stdout",
     "output_type": "stream",
     "text": [
      "The Area is 20\n",
      "The Area is 28.259999999999998\n"
     ]
    }
   ],
   "source": [
    "# Polymorphism with Functions and Methods\n",
    "\n",
    "class shape:\n",
    "    def area(self):\n",
    "        return \"The area of the figure\"\n",
    "\n",
    "# Derived class1\n",
    "class rectangle(shape):\n",
    "    def __init__(self,width,height):\n",
    "        self.width=width\n",
    "        self.height=height\n",
    "\n",
    "    def area(self):\n",
    "        return self.width * self.height\n",
    "    \n",
    "# Derived class2\n",
    "class Circle(rectangle):\n",
    "    def __init__(self,radius):\n",
    "        self.radius=radius\n",
    "    def area(self):\n",
    "        return 3.14*self.radius * self.radius\n",
    "    \n",
    "def print_area(shape):\n",
    "    print(f\"The Area is {shape.area()}\")\n",
    "\n",
    "rectangle=rectangle(4,5)\n",
    "circle=Circle(3)\n",
    "print_area(rectangle)\n",
    "print_area(circle)\n"
   ]
  },
  {
   "cell_type": "markdown",
   "metadata": {},
   "source": [
    "### Polymorphism with Abstract Base Classes\n",
    "\n",
    "ABC is used to define common methods for a group of related objects. They can enforce that derived classes implement particular methods. Promoting consistency across different implementations"
   ]
  },
  {
   "cell_type": "code",
   "execution_count": 22,
   "metadata": {},
   "outputs": [
    {
     "name": "stdout",
     "output_type": "stream",
     "text": [
      "Car enginer started\n"
     ]
    }
   ],
   "source": [
    "#abstract base class\n",
    "from abc import ABC,abstractmethod\n",
    "\n",
    "## define an abstract class\n",
    "\n",
    "class Vehicle(ABC):\n",
    "    @abstractmethod\n",
    "    def start_engine(self):\n",
    "        pass\n",
    "\n",
    "class Car(Vehicle):\n",
    "    def start_engine(self):\n",
    "        return \"Car enginer started\"\n",
    "    \n",
    "class Motorcycle(Vehicle):\n",
    "    def start_engine(self):\n",
    "        return \"Motor engine started\" \n",
    "    \n",
    "def start_vehicle(Vehicle):\n",
    "    print(Vehicle.start_engine())\n",
    "\n",
    "\n",
    "car=Car()\n",
    "motorcycle=Motorcycle()\n",
    "start_vehicle(car)"
   ]
  },
  {
   "cell_type": "markdown",
   "metadata": {},
   "source": [
    "### Encapsulation"
   ]
  },
  {
   "cell_type": "code",
   "execution_count": 1,
   "metadata": {},
   "outputs": [
    {
     "name": "stdout",
     "output_type": "stream",
     "text": [
      "male\n"
     ]
    }
   ],
   "source": [
    "class Person:\n",
    "    def __init__(self,name,age,gender):\n",
    "        self.__name=name\n",
    "        self.__age=age  # Public variables,__ -indicates private variable\n",
    "        self.gender=gender\n",
    "\n",
    "# def get_name(person):\n",
    "#     return person.name,person.age\n",
    "\n",
    "per_obj=Person(\"Ann\",30,\"male\")\n",
    "print(per_obj.gender)"
   ]
  },
  {
   "cell_type": "code",
   "execution_count": 2,
   "metadata": {},
   "outputs": [
    {
     "data": {
      "text/plain": [
       "['__class__',\n",
       " '__delattr__',\n",
       " '__dict__',\n",
       " '__dir__',\n",
       " '__doc__',\n",
       " '__eq__',\n",
       " '__format__',\n",
       " '__ge__',\n",
       " '__getattribute__',\n",
       " '__getstate__',\n",
       " '__gt__',\n",
       " '__hash__',\n",
       " '__init__',\n",
       " '__init_subclass__',\n",
       " '__le__',\n",
       " '__lt__',\n",
       " '__module__',\n",
       " '__ne__',\n",
       " '__new__',\n",
       " '__reduce__',\n",
       " '__reduce_ex__',\n",
       " '__repr__',\n",
       " '__setattr__',\n",
       " '__sizeof__',\n",
       " '__str__',\n",
       " '__subclasshook__',\n",
       " '__weakref__']"
      ]
     },
     "execution_count": 2,
     "metadata": {},
     "output_type": "execute_result"
    }
   ],
   "source": [
    "dir(Person)"
   ]
  },
  {
   "cell_type": "code",
   "execution_count": null,
   "metadata": {},
   "outputs": [
    {
     "data": {
      "text/plain": [
       "'mAN'"
      ]
     },
     "execution_count": 6,
     "metadata": {},
     "output_type": "execute_result"
    }
   ],
   "source": [
    "# Protected variable\n",
    "class Person:\n",
    "    def __init__(self,name,age,gender):\n",
    "        self._name=name  # Protected Variables\n",
    "        self._age=age # Protected Variables -can't use outside the class, can access from derived class\n",
    "        self.gender=gender\n",
    "def get_name(person):\n",
    "    return person._name\n",
    "\n",
    "\n",
    "person=Person(\"mAN\",34,\"Male\")\n",
    "get_name(person)\n"
   ]
  },
  {
   "cell_type": "code",
   "execution_count": 12,
   "metadata": {},
   "outputs": [
    {
     "name": "stdout",
     "output_type": "stream",
     "text": [
      "mAN\n",
      "female\n"
     ]
    }
   ],
   "source": [
    "class Person:\n",
    "    def __init__(self,name,age,gender):\n",
    "        self._name=name  # Protected Variables\n",
    "        self._age=age # Protected Variables\n",
    "                        #-can't use outside the class, can access from derived class\n",
    "        self.gender=gender\n",
    "\n",
    "class Employee(Person):\n",
    "    def __init__(self,name,age,gender):\n",
    "        super().__init__(name,age,gender)\n",
    "\n",
    "\n",
    "def get_name(person):\n",
    "    return person._name\n",
    "\n",
    "employee=Employee(\"mAN\",34,\"Male\")\n",
    "print(employee._name)\n",
    "\n",
    "person=Person(\"mahi\",16,\"female\")\n",
    "print(person.gender)"
   ]
  },
  {
   "cell_type": "code",
   "execution_count": null,
   "metadata": {},
   "outputs": [],
   "source": [
    "# Encapsulation with getter and setter\n",
    "class Person:\n",
    "    def __init__(self,name,age):\n",
    "        self.__name=name # Private access modfier or variable\n",
    "        self.__age=age\n",
    "\n",
    "    # Getter method for name\n",
    "    def get_name(self):  # public method\n",
    "        return self.__name\n",
    "    "
   ]
  },
  {
   "cell_type": "code",
   "execution_count": null,
   "metadata": {},
   "outputs": [],
   "source": []
  }
 ],
 "metadata": {
  "kernelspec": {
   "display_name": "Python 3",
   "language": "python",
   "name": "python3"
  },
  "language_info": {
   "codemirror_mode": {
    "name": "ipython",
    "version": 3
   },
   "file_extension": ".py",
   "mimetype": "text/x-python",
   "name": "python",
   "nbconvert_exporter": "python",
   "pygments_lexer": "ipython3",
   "version": "3.12.6"
  }
 },
 "nbformat": 4,
 "nbformat_minor": 2
}
