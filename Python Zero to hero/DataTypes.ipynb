{
 "cells": [
  {
   "cell_type": "markdown",
   "metadata": {},
   "source": [
    "## PYTHON\n",
    "\n",
    "\n",
    "<li>Created 1990 by Guido van Rossum\n",
    "<li>Python3 released in 2008\n",
    "<li>Easy to use language\n",
    "<li>Readability of code.\n",
    "<li>optimizing developer's tme rather than computer's processing time.\n",
    "<li>docs.python.org/3\n",
    "\n"
   ]
  },
  {
   "cell_type": "markdown",
   "metadata": {},
   "source": [
    "# What can do with Python\n",
    "\n",
    "<li>DS and ML\n",
    "<li>Analyze large files\n",
    "<li>visualizations\n",
    "<li>Perform ML\n",
    "<li>Create and run predictive algorithms\n"
   ]
  },
  {
   "cell_type": "markdown",
   "metadata": {},
   "source": [
    "What can you do with python?\n",
    "Create Websites\n",
    "    <li> Use web frameworks such as Django and flask- to handle backend of a website and user data\n",
    "    <li>Create interactive dashboards for users"
   ]
  },
  {
   "cell_type": "markdown",
   "metadata": {},
   "source": [
    "In Python, data types define the **kind of value** a variable can hold.  **most commonly used data types**:\n",
    "\n",
    "---\n",
    "\n",
    "### 🔢 **Basic Built-in Data Types**\n",
    "\n",
    "| Type       | Description                            | Example                       |\n",
    "|------------|----------------------------------------|-------------------------------|\n",
    "| `int`      | Integer numbers                        | `10`, `-5`, `0`               |\n",
    "| `float`    | Floating-point numbers (decimals)      | `3.14`, `-0.99`               |\n",
    "| `bool`     | Boolean (True or False)                | `True`, `False`              |\n",
    "| `str`      | String (text)                          | `\"Hello\"`, `'Python'`        |\n",
    "| `complex`  | Complex numbers                        | `3+5j`, `-2j`                |\n",
    "\n",
    "---\n",
    "\n",
    "### 📦 **Sequence Types**\n",
    "\n",
    "| Type       | Description                            | Example                       |\n",
    "|------------|----------------------------------------|-------------------------------|\n",
    "| `list`     | Ordered, mutable collection            | `[1, 2, \"apple\"]`             |\n",
    "| `tuple`    | Ordered, immutable collection          | `(10, 20, \"banana\")`          |\n",
    "| `range`    | Sequence of numbers                    | `range(5)` → `0, 1, 2, 3, 4`  |\n",
    "\n",
    "---\n",
    "\n",
    "### 🧩 **Set Types**\n",
    "\n",
    "| Type       | Description                            | Example                       |\n",
    "|------------|----------------------------------------|-------------------------------|\n",
    "| `set`      | Unordered, unique items                | `{1, 2, 3}`                   |\n",
    "| `frozenset`| Immutable version of a set             | `frozenset([1, 2, 3])`        |\n",
    "\n",
    "---\n",
    "\n",
    "### 📚 **Mapping Type**\n",
    "\n",
    "| Type       | Description                            | Example                       |\n",
    "|------------|----------------------------------------|-------------------------------|\n",
    "| `dict`     | Key-value pairs                        | `{\"name\": \"Alice\", \"age\": 25}`|\n",
    "\n",
    "---\n",
    "\n",
    "### 🧵 **Other Important Types**\n",
    "\n",
    "| Type         | Description                        | Example                       |\n",
    "|--------------|------------------------------------|-------------------------------|\n",
    "| `NoneType`   | Represents “nothing” or null value | `None`                        |\n",
    "| `bytes`      | Immutable binary data              | `b\"hello\"`                    |\n",
    "| `bytearray`  | Mutable binary data                | `bytearray([65, 66, 67])`     |\n",
    "| `memoryview` | Memory-efficient view of bytes     | `memoryview(b\"abc\")`          |\n",
    "\n",
    "---\n",
    "\n"
   ]
  },
  {
   "cell_type": "code",
   "execution_count": null,
   "metadata": {},
   "outputs": [
    {
     "name": "stdout",
     "output_type": "stream",
     "text": [
      "Addition 26 \n",
      "Subtraction -1 \n",
      "Division 25.0 \n",
      "Multiplication 1190 \n",
      "Modulus 10\n"
     ]
    }
   ],
   "source": [
    "## Basic operations - Python as a calculator\n",
    "print(\"Addition\",23+3,\"\\nSubtraction\",3-4,\"\\nDivision\",50/2,\"\\nMultiplication\",35*34,\"\\nModulus\",50%20)"
   ]
  },
  {
   "cell_type": "markdown",
   "metadata": {},
   "source": [
    "## Rules for variables\n",
    "<li> Not start with number\n",
    "<li>No space in the name,use '_'\n",
    "<li> can't use symbols\n",
    "<li>PEP8 names are lowercase\n",
    "<li>Avoid \"list,\"str\" etc.(built in keywords)\n"
   ]
  },
  {
   "cell_type": "code",
   "execution_count": 17,
   "metadata": {},
   "outputs": [
    {
     "name": "stdout",
     "output_type": "stream",
     "text": [
      "<class 'int'> <class 'float'>\n"
     ]
    }
   ],
   "source": [
    "a=290\n",
    "b=50.89\n",
    "\n",
    "print(type(a),type(b))"
   ]
  },
  {
   "cell_type": "code",
   "execution_count": 15,
   "metadata": {},
   "outputs": [],
   "source": [
    "a=[]\n",
    "for i in range(5):\n",
    "    a.append(i)"
   ]
  },
  {
   "cell_type": "code",
   "execution_count": 18,
   "metadata": {},
   "outputs": [
    {
     "name": "stdout",
     "output_type": "stream",
     "text": [
      "Addition 340.89 \n",
      "Subtraction 239.11 \n",
      "Division 5.698565533503635 \n",
      "Multiplication 14758.1 \n",
      "Modulus 35.55\n"
     ]
    }
   ],
   "source": [
    "print(\"Addition\",a+b,\"\\nSubtraction\",a-b,\"\\nDivision\",a/b,\"\\nMultiplication\",a*b,\"\\nModulus\",a%b)"
   ]
  },
  {
   "cell_type": "markdown",
   "metadata": {},
   "source": [
    "## Strings\n",
    "<li> Strings are ordered sequences use- indexing or slicing\n",
    "<li>\n",
    "\n",
    "\n",
    "<li>String:     P   y   t   h   o   n\n",
    "<li>Index:      0   1   2   3   4   5\n",
    "<li>Reverse:   -6  -5  -4  -3  -2  -1\n",
    "\n"
   ]
  },
  {
   "cell_type": "markdown",
   "metadata": {},
   "source": [
    "A **string** in Python is a **sequence of characters** enclosed in either single quotes `'...'` or double quotes `\"...\"`. It’s one of the most commonly used data types in Python for handling text.\n",
    "\n",
    "---\n",
    "\n",
    "### 🧱 **Creating Strings**\n",
    "\n",
    "name = \"Alice\"\n",
    "greeting = 'Hello, world!'\n",
    "\n",
    "## multi-line strings:\n",
    "message = \"\"\"This is\n",
    "a multi-line\n",
    "string.\"\"\"\n",
    "\n",
    "---\n",
    "\n",
    "### 🔧 **Common String Operations**\n",
    "\n",
    "| Operation           | Example                        | Result                        |\n",
    "|---------------------|--------------------------------|-------------------------------|\n",
    "| Concatenation       | `\"Hello \" + \"World\"`           | `\"Hello World\"`               |\n",
    "| Repetition          | `\"ha\" * 3`                     | `\"hahaha\"`                    |\n",
    "| Indexing            | `\"Python\"[0]`                  | `'P'`                         |\n",
    "| Slicing             | `\"Python\"[1:4]`                | `'yth'`                       |\n",
    "| Length              | `len(\"hello\")`                 | `5`                           |\n",
    "\n",
    "---\n",
    "\n",
    "### 🛠️ **Useful String Methods**\n",
    "\n",
    "| Method               | Description                          | Example                      |\n",
    "|----------------------|--------------------------------------|------------------------------|\n",
    "| `.lower()`           | Converts to lowercase                | `\"HELLO\".lower()` → `\"hello\"`|\n",
    "| `.upper()`           | Converts to uppercase                | `\"hi\".upper()` → `\"HI\"`      |\n",
    "| `.strip()`           | Removes whitespace                   | `\"  hello  \".strip()`        |\n",
    "| `.replace(a, b)`     | Replaces `a` with `b`                | `\"cat\".replace(\"c\", \"b\")`    |\n",
    "| `.split()`           | Splits string into list              | `\"a,b,c\".split(\",\")`         |\n",
    "| `.join()`            | Joins list into string               | `\",\".join(['a','b'])`        |\n",
    "| `.find()`            | Finds index of a substring           | `\"hello\".find(\"e\")` → `1`    |\n",
    "| `.isdigit()`         | Checks if all characters are digits  | `\"123\".isdigit()` → `True`   |\n",
    "\n",
    "---\n",
    "\n",
    "### 🔍 **Formatted Strings (f-strings)**\n",
    "\n",
    "```python\n",
    "name = \"Alice\"\n",
    "age = 25\n",
    "print(f\"My name is {name} and I am {age} years old.\")\n",
    "```\n",
    "\n",
    "Output:\n",
    "```\n",
    "My name is Alice and I am 25 years old.\n",
    "```"
   ]
  },
  {
   "cell_type": "markdown",
   "metadata": {},
   "source": [
    "### Indexing"
   ]
  },
  {
   "cell_type": "code",
   "execution_count": 19,
   "metadata": {},
   "outputs": [],
   "source": [
    "my_string=\"Hello World\""
   ]
  },
  {
   "cell_type": "code",
   "execution_count": null,
   "metadata": {},
   "outputs": [
    {
     "name": "stdout",
     "output_type": "stream",
     "text": [
      "Reversing a string :  dlroW olleH\n",
      "loW\n"
     ]
    }
   ],
   "source": [
    "my_string[0],my_string[8]\n",
    "print(\"Reversing a string : \",my_string[::-1])\n",
    "print(my_string[2:7:2])"
   ]
  },
  {
   "cell_type": "markdown",
   "metadata": {},
   "source": [
    "#### 1. Question- Indexing\n",
    "text = \"DataScience\"\n",
    "what will be \n",
    "<li>text[2:6]\n",
    "\n",
    "<li>text[:4]\n",
    "\n",
    "<li>text[-4:]\n",
    "\n"
   ]
  },
  {
   "cell_type": "markdown",
   "metadata": {},
   "source": [
    "### String Immutability"
   ]
  },
  {
   "cell_type": "code",
   "execution_count": 35,
   "metadata": {},
   "outputs": [],
   "source": [
    "name=\"Hello World\""
   ]
  },
  {
   "cell_type": "code",
   "execution_count": 36,
   "metadata": {},
   "outputs": [
    {
     "data": {
      "text/plain": [
       "'ello World'"
      ]
     },
     "execution_count": 36,
     "metadata": {},
     "output_type": "execute_result"
    }
   ],
   "source": [
    "last_letters=name[1:]\n",
    "last_letters"
   ]
  },
  {
   "cell_type": "code",
   "execution_count": 42,
   "metadata": {},
   "outputs": [
    {
     "name": "stdout",
     "output_type": "stream",
     "text": [
      "name+name+name\n"
     ]
    },
    {
     "data": {
      "text/plain": [
       "'Hello Welcome to the python program'"
      ]
     },
     "execution_count": 42,
     "metadata": {},
     "output_type": "execute_result"
    }
   ],
   "source": [
    "print('name+name+name')\n",
    "name[:5]+' Welcome to the python program'"
   ]
  },
  {
   "cell_type": "code",
   "execution_count": 48,
   "metadata": {},
   "outputs": [
    {
     "data": {
      "text/plain": [
       "'Hello World'"
      ]
     },
     "execution_count": 48,
     "metadata": {},
     "output_type": "execute_result"
    }
   ],
   "source": [
    "name.upper()\n",
    "name.removeprefix('o')"
   ]
  },
  {
   "cell_type": "code",
   "execution_count": 56,
   "metadata": {},
   "outputs": [
    {
     "name": "stdout",
     "output_type": "stream",
     "text": [
      "This is a string INSERTED\n",
      "The fox brown quick\n",
      "The quick brown fox\n"
     ]
    }
   ],
   "source": [
    "# Formatting with the .format() method  -A good way to format objects into your strings for print\n",
    "print('This is a string {}'.format('INSERTED'))\n",
    "print('The {0} {1} {2}'.format('fox','brown','quick'))\n",
    "print('The {c} {b} {a}'.format(a='fox',b='brown',c='quick'))\n",
    "\n"
   ]
  },
  {
   "cell_type": "code",
   "execution_count": 63,
   "metadata": {},
   "outputs": [
    {
     "name": "stdout",
     "output_type": "stream",
     "text": [
      "88.20588235294117\n",
      "The result was  88.21\n"
     ]
    }
   ],
   "source": [
    "# {value:width.precision f}\n",
    "result=2999/34\n",
    "print(result)\n",
    "print(\"The result was  {r:1.2f}\".format(r=result))"
   ]
  },
  {
   "cell_type": "code",
   "execution_count": 69,
   "metadata": {},
   "outputs": [
    {
     "name": "stdout",
     "output_type": "stream",
     "text": [
      "Hello his name is Mahi\n",
      "Mahi is a 20 years old person\n"
     ]
    }
   ],
   "source": [
    "name=\"Mahi\"\n",
    "age=20\n",
    "print(f'Hello his name is {name}')\n",
    "print(f'{name} is a {age} years old person')"
   ]
  },
  {
   "cell_type": "markdown",
   "metadata": {},
   "source": [
    "### LIST"
   ]
  },
  {
   "cell_type": "code",
   "execution_count": 87,
   "metadata": {},
   "outputs": [
    {
     "data": {
      "text/plain": [
       "['ann', 'Abel', 'Farah', 1, 2, 3]"
      ]
     },
     "execution_count": 87,
     "metadata": {},
     "output_type": "execute_result"
    }
   ],
   "source": [
    "my_list=[1,2,3]\n",
    "len(my_list)\n",
    "mylist=['ann','Abel','Farah']\n",
    "mylist+my_list"
   ]
  },
  {
   "cell_type": "code",
   "execution_count": null,
   "metadata": {},
   "outputs": [],
   "source": [
    "mylist[0]=\"Hann\"\n",
    "mylist.append('sira')\n",
    "# mylist[3]=\"Rachel\""
   ]
  },
  {
   "cell_type": "code",
   "execution_count": 93,
   "metadata": {},
   "outputs": [],
   "source": [
    "mylist[2]=\"Rache\""
   ]
  },
  {
   "cell_type": "code",
   "execution_count": 100,
   "metadata": {},
   "outputs": [
    {
     "data": {
      "text/plain": [
       "['Rache', 'sira']"
      ]
     },
     "execution_count": 100,
     "metadata": {},
     "output_type": "execute_result"
    }
   ],
   "source": [
    "mylist"
   ]
  },
  {
   "cell_type": "code",
   "execution_count": 99,
   "metadata": {},
   "outputs": [
    {
     "data": {
      "text/plain": [
       "'Abel'"
      ]
     },
     "execution_count": 99,
     "metadata": {},
     "output_type": "execute_result"
    }
   ],
   "source": [
    "#  POP - default index location is '-1'\n",
    "mylist.pop(0)"
   ]
  },
  {
   "cell_type": "code",
   "execution_count": 101,
   "metadata": {},
   "outputs": [],
   "source": [
    "new_list=['a','e','i','o','u']\n",
    "num_list=[23,4,6,2]"
   ]
  },
  {
   "cell_type": "code",
   "execution_count": 107,
   "metadata": {},
   "outputs": [],
   "source": [
    "new_sorted_list=num_list.sort()\n"
   ]
  },
  {
   "cell_type": "code",
   "execution_count": 108,
   "metadata": {},
   "outputs": [
    {
     "data": {
      "text/plain": [
       "NoneType"
      ]
     },
     "execution_count": 108,
     "metadata": {},
     "output_type": "execute_result"
    }
   ],
   "source": [
    "type(new_sorted_list)"
   ]
  },
  {
   "cell_type": "markdown",
   "metadata": {},
   "source": [
    "### Dictionary\n",
    "\n",
    "<li> collection of key value pairs\n",
    "<li> each key maps to a value\n",
    "<li> it is unordered , mutable, and indexed by keys"
   ]
  },
  {
   "cell_type": "code",
   "execution_count": 109,
   "metadata": {},
   "outputs": [],
   "source": [
    "\n",
    "\n",
    "person = {\n",
    "    \"name\": \"Alice\",\n",
    "    \"age\": 25,\n",
    "    \"city\": \"New York\"\n",
    "}\n"
   ]
  },
  {
   "cell_type": "code",
   "execution_count": 111,
   "metadata": {},
   "outputs": [
    {
     "data": {
      "text/plain": [
       "'Alice'"
      ]
     },
     "execution_count": 111,
     "metadata": {},
     "output_type": "execute_result"
    }
   ],
   "source": [
    "person['name']"
   ]
  },
  {
   "cell_type": "code",
   "execution_count": 112,
   "metadata": {},
   "outputs": [],
   "source": [
    "list_dic={'name':\"Ann\",\n",
    "          'mark':[34,56,23],\n",
    "          'K3':{'insidekey':900}\n",
    "          }"
   ]
  },
  {
   "cell_type": "code",
   "execution_count": 113,
   "metadata": {},
   "outputs": [
    {
     "data": {
      "text/plain": [
       "{'name': 'Ann', 'mark': [34, 56, 23], 'K3': {'insidekey': 900}}"
      ]
     },
     "execution_count": 113,
     "metadata": {},
     "output_type": "execute_result"
    }
   ],
   "source": [
    "list_dic"
   ]
  },
  {
   "cell_type": "code",
   "execution_count": 114,
   "metadata": {},
   "outputs": [
    {
     "data": {
      "text/plain": [
       "'n'"
      ]
     },
     "execution_count": 114,
     "metadata": {},
     "output_type": "execute_result"
    }
   ],
   "source": [
    "list_dic['name'][2]"
   ]
  },
  {
   "cell_type": "code",
   "execution_count": 122,
   "metadata": {},
   "outputs": [
    {
     "data": {
      "text/plain": [
       "{'key1': ['a', 'b', 'c'], 'key2': [23, 44, 35, 33]}"
      ]
     },
     "execution_count": 122,
     "metadata": {},
     "output_type": "execute_result"
    }
   ],
   "source": [
    "d={'key1':['a','b','c'],'key2':[23,44,35,33]}\n",
    "d"
   ]
  },
  {
   "cell_type": "code",
   "execution_count": 125,
   "metadata": {},
   "outputs": [
    {
     "data": {
      "text/plain": [
       "'B'"
      ]
     },
     "execution_count": 125,
     "metadata": {},
     "output_type": "execute_result"
    }
   ],
   "source": [
    "d['key1'][1].upper()"
   ]
  },
  {
   "cell_type": "code",
   "execution_count": 128,
   "metadata": {},
   "outputs": [
    {
     "data": {
      "text/plain": [
       "dict_items([('key1', ['a', 'b', 'c']), ('key2', [23, 44, 35, 33]), ('key3', [2, 4, 3])])"
      ]
     },
     "execution_count": 128,
     "metadata": {},
     "output_type": "execute_result"
    }
   ],
   "source": [
    "d['key3']=[2,4,3]\n",
    "d.items()"
   ]
  },
  {
   "cell_type": "code",
   "execution_count": null,
   "metadata": {},
   "outputs": [],
   "source": []
  }
 ],
 "metadata": {
  "kernelspec": {
   "display_name": "Python 3",
   "language": "python",
   "name": "python3"
  },
  "language_info": {
   "codemirror_mode": {
    "name": "ipython",
    "version": 3
   },
   "file_extension": ".py",
   "mimetype": "text/x-python",
   "name": "python",
   "nbconvert_exporter": "python",
   "pygments_lexer": "ipython3",
   "version": "3.12.6"
  }
 },
 "nbformat": 4,
 "nbformat_minor": 2
}
