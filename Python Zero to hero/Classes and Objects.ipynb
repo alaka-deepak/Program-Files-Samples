{
 "cells": [
  {
   "cell_type": "markdown",
   "metadata": {},
   "source": [
    "🧱 Step 1: What is OOP?\n",
    "OOP (Object-Oriented Programming) is a way to write code that models real-world things — using classes and objects.\n",
    "\n",
    "🤔 Think Like This:\n",
    "You = Object\n",
    "\n",
    "You are built from a class called Human\n",
    "\n",
    "You have attributes: name, age, height\n",
    "\n",
    "You can do actions: walk, talk, sleep\n",
    "\n"
   ]
  },
  {
   "cell_type": "markdown",
   "metadata": {},
   "source": [
    "class car:\n",
    "    pass\n"
   ]
  },
  {
   "cell_type": "code",
   "execution_count": 1,
   "metadata": {},
   "outputs": [
    {
     "name": "stdout",
     "output_type": "stream",
     "text": [
      "<class '__main__.car'>\n"
     ]
    }
   ],
   "source": [
    "class car:\n",
    "    pass\n",
    "audi=car()\n",
    "bmw=car()\n",
    "\n",
    "print(type(audi))"
   ]
  },
  {
   "cell_type": "code",
   "execution_count": null,
   "metadata": {},
   "outputs": [
    {
     "name": "stdout",
     "output_type": "stream",
     "text": [
      "Hi, I'mAlice and I'm 25 years old\n"
     ]
    }
   ],
   "source": [
    "class person:\n",
    "    def  __init__(self,name,age):  # init is a constructor- it runs automatically when an object is created.\n",
    "        #self -- refers current object   \"this\"\n",
    "        self.name=name\n",
    "        self.age=age\n",
    "\n",
    "    def say_hello(self):\n",
    "        print(f\"Hi, I'm {self.name} and I'm {self.age} years old\")\n",
    "\n",
    "p1=person(\"Alice\",25)\n",
    "p1.say_hello()"
   ]
  },
  {
   "cell_type": "code",
   "execution_count": null,
   "metadata": {},
   "outputs": [],
   "source": []
  }
 ],
 "metadata": {
  "kernelspec": {
   "display_name": "Python 3",
   "language": "python",
   "name": "python3"
  },
  "language_info": {
   "codemirror_mode": {
    "name": "ipython",
    "version": 3
   },
   "file_extension": ".py",
   "mimetype": "text/x-python",
   "name": "python",
   "nbconvert_exporter": "python",
   "pygments_lexer": "ipython3",
   "version": "3.12.6"
  }
 },
 "nbformat": 4,
 "nbformat_minor": 2
}
