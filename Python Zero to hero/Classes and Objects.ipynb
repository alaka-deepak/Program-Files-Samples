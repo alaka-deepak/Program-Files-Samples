{
 "cells": [
  {
   "cell_type": "markdown",
   "metadata": {},
   "source": [
    "🧱 Step 1: What is OOP?\n",
    "OOP (Object-Oriented Programming) is a way to write code that models real-world things — using classes and objects.\n",
    "\n",
    "🤔 Think Like This:\n",
    "You = Object\n",
    "\n",
    "You are built from a class called Human\n",
    "\n",
    "You have attributes: name, age, height\n",
    "\n",
    "You can do actions: walk, talk, sleep\n",
    "\n"
   ]
  },
  {
   "cell_type": "code",
   "execution_count": 6,
   "metadata": {},
   "outputs": [
    {
     "name": "stdout",
     "output_type": "stream",
     "text": [
      "Hi, I'm Alice and I'm 25 years old\n"
     ]
    }
   ],
   "source": [
    "class person:\n",
    "    def  __init__(self,name,age):  # init is a constructor- it runs automatically when an object is created.\n",
    "        #self -- refers current object   \"this\"\n",
    "        self.name=name\n",
    "        self.age=age\n",
    "\n",
    "    def say_hello(self):\n",
    "        print(f\"Hi, I'm {self.name} and I'm {self.age} years old\")\n",
    "\n",
    "p1=person(\"Alice\",25)\n",
    "p1.say_hello()"
   ]
  },
  {
   "cell_type": "code",
   "execution_count": 7,
   "metadata": {},
   "outputs": [
    {
     "name": "stdout",
     "output_type": "stream",
     "text": [
      "<class '__main__.car'>\n"
     ]
    }
   ],
   "source": [
    "class car:\n",
    "      pass # No error  -place holder for now, no attributes\n",
    "audi=car()\n",
    "bmw=car()\n",
    "\n",
    "print(type(audi))"
   ]
  },
  {
   "cell_type": "code",
   "execution_count": 8,
   "metadata": {},
   "outputs": [
    {
     "name": "stdout",
     "output_type": "stream",
     "text": [
      "4\n"
     ]
    }
   ],
   "source": [
    "audi.windows=4\n",
    "print(audi.windows)"
   ]
  },
  {
   "cell_type": "code",
   "execution_count": null,
   "metadata": {},
   "outputs": [
    {
     "name": "stdout",
     "output_type": "stream",
     "text": [
      "<__main__.Dog object at 0x10685b380>\n",
      "Buddy 34\n"
     ]
    }
   ],
   "source": [
    "#Instance variable and Methods\n",
    "class Dog:\n",
    "    # Constructor\n",
    "    def __init__(self,name,age):# keyword, self not perticular\n",
    "        self.name=name\n",
    "        self.age=age\n",
    "dog_ob=Dog(\"Buddy\",34)\n",
    "print(dog_ob)\n",
    "print(dog_ob.name,dog_ob.age)\n",
    "\n",
    "\n"
   ]
  },
  {
   "cell_type": "code",
   "execution_count": 18,
   "metadata": {},
   "outputs": [
    {
     "name": "stdout",
     "output_type": "stream",
     "text": [
      "Buddy says wooof, he has only 34 years\n"
     ]
    }
   ],
   "source": [
    "# Define a class using Instance method\n",
    "\n",
    "class Dog:\n",
    "    def __init__(self,name,age):\n",
    "        self.name=name\n",
    "        self.age=age\n",
    "\n",
    "    def barking(self):\n",
    "        print(f\"{self.name} says wooof, he has only {self.age} years\")\n",
    "\n",
    "\n",
    "obj_dog=Dog(\"Buddy\",34)\n",
    "obj_dog.barking()\n"
   ]
  },
  {
   "cell_type": "code",
   "execution_count": 26,
   "metadata": {},
   "outputs": [
    {
     "name": "stdout",
     "output_type": "stream",
     "text": [
      "5000\n"
     ]
    }
   ],
   "source": [
    "# Modelling a bank account\n",
    "\n",
    "# Define a class for bank account\n",
    "class BankAccount:\n",
    "    def __init__(self,owner,balance=0):\n",
    "        self.owner=owner\n",
    "        self.balance=balance\n",
    "\n",
    "    def deposit(self,amount):\n",
    "        self.balance+=amount\n",
    "        print(f\"{amount} is deposited.New balance is {self.balance}\")\n",
    "    \n",
    "    def withdraw(self,amount):\n",
    "        if amount>self.balance:\n",
    "            print(\"Insufficient fund\")\n",
    "        else:\n",
    "            print(f\"{amount} is withdrawn, New balance is {self.balance}\")\n",
    "\n",
    "    def get_balance(self):\n",
    "        return self.balance\n",
    "    \n",
    "\n",
    "bank_obj=BankAccount(\"Mahi\",5000)\n",
    "print(bank_obj.balance)\n"
   ]
  },
  {
   "cell_type": "markdown",
   "metadata": {},
   "source": [
    "### Inheritance\n",
    "\n",
    "<li> Inheritance allows us to define a class that inherits all the methods and properties from another class.\n",
    "<li> Parent class is the class being inherited from, also called base class.\n",
    "\n",
    "<li>Child class is the class that inherits from another class, also called derived class."
   ]
  },
  {
   "cell_type": "code",
   "execution_count": 8,
   "metadata": {},
   "outputs": [
    {
     "name": "stdout",
     "output_type": "stream",
     "text": [
      "Mahi is driving a car of engine type Pertrol\n"
     ]
    }
   ],
   "source": [
    "class Car:\n",
    "    def __init__(self,name,windows,doors,enginetype):\n",
    "        self.name=name\n",
    "        self.windows=windows\n",
    "        self.doors=doors\n",
    "        self.engine=enginetype\n",
    "    def driving(self):\n",
    "        print(f\"{self.name} is driving a car of engine type {self.engine}\")\n",
    "\n",
    "car1=Car(\"Mahi\",4,5,\"Pertrol\")\n",
    "car1.driving()\n",
    "\n",
    "# Tesla having the same features\n",
    "\n",
    "class Tesla(Car):\n",
    "    def __init__(self,windows,doors,enginetype,is_selfdriving):\n",
    "        super().__init__(windows,doors,enginetype,is_selfdriving)  \n",
    "        self.is_selfdriv=is_selfdriving\n",
    "\n",
    "    def selfdriving(self):\n",
    "        print(f\"Tesla supports self driving : {self.is_selfdriv}\")\n",
    "\n",
    "\n",
    "\n"
   ]
  },
  {
   "cell_type": "code",
   "execution_count": 9,
   "metadata": {},
   "outputs": [
    {
     "name": "stdout",
     "output_type": "stream",
     "text": [
      "Tesla supports self driving : True\n"
     ]
    }
   ],
   "source": [
    "tesla1=Tesla(4,5,\"electric\",True)\n",
    "tesla1.selfdriving()\n"
   ]
  },
  {
   "cell_type": "code",
   "execution_count": 10,
   "metadata": {},
   "outputs": [
    {
     "name": "stdout",
     "output_type": "stream",
     "text": [
      "Buddy say woof\n",
      "Owner is Manu\n"
     ]
    }
   ],
   "source": [
    "# Base class 1\n",
    "class Animal:\n",
    "    def __init__(self,name):\n",
    "        self.name=name\n",
    "    def speak(self):\n",
    "        print(\"Implement this method:\")\n",
    "\n",
    "#Base class 2\n",
    "class pet:\n",
    "    def __init__(self,owner):\n",
    "        self.owner=owner\n",
    "\n",
    "# Dervived class\n",
    "class Dog(Animal,pet):\n",
    "    def __init__(self,name,owner):\n",
    "        Animal.__init__(self,name)\n",
    "        pet.__init__(self,owner)\n",
    "\n",
    "    def speak(self):\n",
    "        return f\"{self.name} say woof\"\n",
    "    \n",
    "## Create an object\n",
    "\n",
    "dog=Dog(\"Buddy\",\"Manu\")\n",
    "print(dog.speak())\n",
    "print(f\"Owner is {dog.owner}\")\n"
   ]
  },
  {
   "cell_type": "code",
   "execution_count": null,
   "metadata": {},
   "outputs": [],
   "source": []
  }
 ],
 "metadata": {
  "kernelspec": {
   "display_name": "Python 3",
   "language": "python",
   "name": "python3"
  },
  "language_info": {
   "codemirror_mode": {
    "name": "ipython",
    "version": 3
   },
   "file_extension": ".py",
   "mimetype": "text/x-python",
   "name": "python",
   "nbconvert_exporter": "python",
   "pygments_lexer": "ipython3",
   "version": "3.12.6"
  }
 },
 "nbformat": 4,
 "nbformat_minor": 2
}
