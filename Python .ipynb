{
 "cells": [
  {
   "cell_type": "markdown",
   "metadata": {},
   "source": [
    "### PYTHON\n",
    "\n",
    "\n",
    "Created 1990 by Guido van Rossum\n",
    "Python3 released in 2008\n",
    "Easy to use language\n",
    "Readability of code.\n",
    "optimizing developer's tme rather than computer's processing time.\n",
    "docs.python.org/3\n",
    "\n"
   ]
  },
  {
   "cell_type": "code",
   "execution_count": null,
   "metadata": {
    "vscode": {
     "languageId": "plaintext"
    }
   },
   "outputs": [],
   "source": []
  }
 ],
 "metadata": {
  "language_info": {
   "name": "python"
  }
 },
 "nbformat": 4,
 "nbformat_minor": 2
}
