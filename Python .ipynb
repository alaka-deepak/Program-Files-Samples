{
 "cells": [
  {
   "cell_type": "markdown",
   "metadata": {},
   "source": [
    "### PYTHON\n",
    "\n",
    "\n",
    "<li>Created 1990 by Guido van Rossum\n",
    "<li>Python3 released in 2008\n",
    "<li><li>Easy to use language\n",
    "<li>Readability of code.\n",
    "<li>optimizing developer's tme rather than computer's processing time.\n",
    "<li>docs.python.org/3\n",
    "\n"
   ]
  },
  {
   "cell_type": "markdown",
   "metadata": {},
   "source": [
    "# What can do with Python\n",
    "\n",
    "DS and ML\n",
    "Analyze large files\n",
    "visualizations\n",
    "Perform ML\n",
    "Create and run predictive algorithms\n"
   ]
  },
  {
   "cell_type": "markdown",
   "metadata": {},
   "source": [
    "What can you do with python?\n",
    "Create Websites\n",
    "    <li> Use web frameworks such as Django and flask- to handle backend of a website and user data\n",
    "    <li>Create interactive dashboards for users"
   ]
  },
  {
   "cell_type": "code",
   "execution_count": null,
   "metadata": {
    "vscode": {
     "languageId": "plaintext"
    }
   },
   "outputs": [],
   "source": []
  }
 ],
 "metadata": {
  "language_info": {
   "name": "python"
  }
 },
 "nbformat": 4,
 "nbformat_minor": 2
}
