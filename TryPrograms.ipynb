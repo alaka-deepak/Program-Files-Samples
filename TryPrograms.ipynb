{
 "cells": [
  {
   "cell_type": "markdown",
   "metadata": {},
   "source": [
    "### 1. The Fibonacci sequence less than a given number."
   ]
  },
  {
   "cell_type": "code",
   "execution_count": 2,
   "metadata": {},
   "outputs": [
    {
     "name": "stdout",
     "output_type": "stream",
     "text": [
      "0\n",
      "1\n",
      "1\n",
      "2\n",
      "3\n",
      "5\n",
      "8\n",
      "13\n",
      "21\n",
      "34\n"
     ]
    }
   ],
   "source": [
    "\n",
    "sum=1\n",
    "i=0\n",
    "limit=int(input(\"Enter the limit\"))\n",
    "print(i)\n",
    "print(sum)\n",
    "while (sum<=limit):\n",
    "  temp=sum\n",
    "  sum=sum+i\n",
    "  i=temp\n",
    "  if(sum<=limit):\n",
    "    print(sum)"
   ]
  },
  {
   "cell_type": "markdown",
   "metadata": {},
   "source": [
    "### 2. Write a program to check if a number is even or odd.\n"
   ]
  },
  {
   "cell_type": "code",
   "execution_count": null,
   "metadata": {},
   "outputs": [
    {
     "name": "stdout",
     "output_type": "stream",
     "text": [
      "2\n"
     ]
    }
   ],
   "source": [
    "number=int(input(\"Enter the number\"))\n",
    "print(number)"
   ]
  },
  {
   "cell_type": "code",
   "execution_count": 4,
   "metadata": {},
   "outputs": [
    {
     "name": "stdout",
     "output_type": "stream",
     "text": [
      "number is even\n"
     ]
    }
   ],
   "source": [
    "if number%2==0:\n",
    "    print(\"number is even\")\n",
    "else:\n",
    "    print(\"number odd\")\n"
   ]
  },
  {
   "cell_type": "markdown",
   "metadata": {},
   "source": [
    "### 3. Print the multiplication table of a given number."
   ]
  },
  {
   "cell_type": "code",
   "execution_count": 10,
   "metadata": {},
   "outputs": [
    {
     "name": "stdout",
     "output_type": "stream",
     "text": [
      "1 * 5 = 5\n",
      "2 * 5 = 10\n",
      "3 * 5 = 15\n",
      "4 * 5 = 20\n",
      "5 * 5 = 25\n",
      "6 * 5 = 30\n",
      "7 * 5 = 35\n",
      "8 * 5 = 40\n",
      "9 * 5 = 45\n",
      "10 * 5 = 50\n"
     ]
    }
   ],
   "source": [
    "num=int(input(\"Number for multiplication\"))\n",
    "i=1\n",
    "while(i<=10):\n",
    "    print(i,'*',num,'=',i*num)\n",
    "    i+=1"
   ]
  },
  {
   "cell_type": "markdown",
   "metadata": {},
   "source": [
    "### 4. Write a program to count the number of vowels in a given string."
   ]
  },
  {
   "cell_type": "code",
   "execution_count": null,
   "metadata": {},
   "outputs": [],
   "source": [
    "vow=input(\"Enter the string\")"
   ]
  },
  {
   "cell_type": "code",
   "execution_count": null,
   "metadata": {},
   "outputs": [],
   "source": [
    "def vowels_in_string(vow):\n",
    "    list_vow=['a','e','i','o','u']\n",
    "    count=0\n",
    "    for i in vow:\n",
    "        if i in list_vow:\n",
    "            count+=1\n",
    "    return count\n"
   ]
  },
  {
   "cell_type": "code",
   "execution_count": 22,
   "metadata": {},
   "outputs": [
    {
     "name": "stdout",
     "output_type": "stream",
     "text": [
      "vowels in doctor is 2\n"
     ]
    }
   ],
   "source": [
    "vo_num=vowels_in_string(vow)\n",
    "print(\"vowels in\",vow,\"is\",vo_num)"
   ]
  },
  {
   "cell_type": "markdown",
   "metadata": {},
   "source": [
    "### 5. Reverse a string using slicing."
   ]
  },
  {
   "cell_type": "code",
   "execution_count": null,
   "metadata": {},
   "outputs": [],
   "source": [
    "vow=input(\"Enter the string\")"
   ]
  },
  {
   "cell_type": "code",
   "execution_count": 29,
   "metadata": {},
   "outputs": [],
   "source": [
    "def reverse_word(vow):\n",
    "    reversed=\"\"\n",
    "    for i in vow:\n",
    "        reversed=i+reversed\n",
    "    return reversed"
   ]
  },
  {
   "cell_type": "code",
   "execution_count": 30,
   "metadata": {},
   "outputs": [
    {
     "name": "stdout",
     "output_type": "stream",
     "text": [
      "reverse of the word is rotcod\n"
     ]
    }
   ],
   "source": [
    "print(\"reverse of the word is\",reverse_word(vow))"
   ]
  },
  {
   "cell_type": "code",
   "execution_count": 32,
   "metadata": {},
   "outputs": [
    {
     "name": "stdout",
     "output_type": "stream",
     "text": [
      "rotcod\n"
     ]
    }
   ],
   "source": [
    "# Reverse a string using slicing.\n",
    "print((vow[::-1]))"
   ]
  },
  {
   "cell_type": "markdown",
   "metadata": {},
   "source": [
    "### 6. check palindrome or not"
   ]
  },
  {
   "cell_type": "code",
   "execution_count": 35,
   "metadata": {},
   "outputs": [
    {
     "name": "stdout",
     "output_type": "stream",
     "text": [
      "string is not palindrome\n"
     ]
    }
   ],
   "source": [
    "# Reverse a string using slicing.\n",
    "vow=input(\"Enter the string\")\n",
    "if vow==vow[::-1]:\n",
    "    print(\"string is palindrome\")\n",
    "else:\n",
    "    print(\"string is not palindrome\")"
   ]
  },
  {
   "cell_type": "markdown",
   "metadata": {},
   "source": [
    "### 7. Write a program to replace all spaces in a string with underscores"
   ]
  },
  {
   "cell_type": "code",
   "execution_count": 36,
   "metadata": {},
   "outputs": [
    {
     "data": {
      "text/plain": [
       "'dc_fcdf'"
      ]
     },
     "execution_count": 36,
     "metadata": {},
     "output_type": "execute_result"
    }
   ],
   "source": [
    "vow=input(\"enter the string\")\n",
    "vow.replace(\" \",\"_\")"
   ]
  },
  {
   "cell_type": "markdown",
   "metadata": {},
   "source": [
    "### 8. Write a program to find the largest and smallest numbers in a list."
   ]
  },
  {
   "cell_type": "code",
   "execution_count": 61,
   "metadata": {},
   "outputs": [
    {
     "name": "stdout",
     "output_type": "stream",
     "text": [
      "932 34\n"
     ]
    }
   ],
   "source": [
    "list_num=[34,56,344,87,932,45]\n",
    "\n",
    "def large_small(list_num):\n",
    "    largest=smallest=list_num[0]\n",
    "    for i in list_num:\n",
    "        if i>largest:\n",
    "            largest=i\n",
    "        if i<smallest:\n",
    "            smallest=i\n",
    "    return largest,smallest\n",
    "\n",
    "large,small=large_small(list_num)   \n",
    "print(large,small) \n"
   ]
  },
  {
   "cell_type": "markdown",
   "metadata": {},
   "source": [
    "### 9.Function to sort a list in ascending order using Bubble Sort\n"
   ]
  },
  {
   "cell_type": "code",
   "execution_count": 69,
   "metadata": {},
   "outputs": [
    {
     "name": "stdout",
     "output_type": "stream",
     "text": [
      "The sorted list is: [44, 45, 76, 89]\n"
     ]
    }
   ],
   "source": [
    "# Function to sort a list in ascending order using Bubble Sort\n",
    "def sort_list_ascending(list_num):\n",
    "    n = len(list_num)\n",
    "    \n",
    "    # Bubble sort algorithm\n",
    "    for i in range(n):\n",
    "        for j in range(0, n-i-1):  # Reduce the range in each iteration\n",
    "            if list_num[j] > list_num[j+1]:  # Compare adjacent elements\n",
    "                # Swap the elements if they are in the wrong order\n",
    "                list_num[j], list_num[j+1] = list_num[j+1], list_num[j]\n",
    "    \n",
    "    return list_num\n",
    "\n",
    "# Input: List of numbers from the user\n",
    "list_num = list(map(int, input(\"Enter numbers separated by spaces: \").split()))\n",
    "\n",
    "# Sort the list and display the result\n",
    "sorted_list = sort_list_ascending(list_num)\n",
    "print(f\"The sorted list is: {sorted_list}\")\n"
   ]
  },
  {
   "cell_type": "markdown",
   "metadata": {},
   "source": [
    "### 10. Write a program to count the frequency of each character in a string using a dictionary."
   ]
  },
  {
   "cell_type": "code",
   "execution_count": 16,
   "metadata": {},
   "outputs": [
    {
     "name": "stdout",
     "output_type": "stream",
     "text": [
      "number of characters in unitedkingdom is 13\n"
     ]
    }
   ],
   "source": [
    "fre='unitedkingdom'\n",
    "count=len(fre)\n",
    "print(\"number of characters in\",fre,\"is\",count)"
   ]
  },
  {
   "cell_type": "code",
   "execution_count": null,
   "metadata": {},
   "outputs": [],
   "source": [
    "string=\"vowelss\"\n",
    "count=0\n",
    "char_count={}\n",
    "for i in string:\n",
    "    if i in char_count:\n",
    "        char_count[i]+=1\n",
    "    else:\n",
    "        char_count[i]=1"
   ]
  },
  {
   "cell_type": "code",
   "execution_count": 13,
   "metadata": {},
   "outputs": [
    {
     "name": "stdout",
     "output_type": "stream",
     "text": [
      "{'v': 1, 'o': 1, 'w': 1, 'e': 1, 'l': 1, 's': 2}\n"
     ]
    }
   ],
   "source": [
    "print(char_count)"
   ]
  },
  {
   "cell_type": "code",
   "execution_count": 21,
   "metadata": {},
   "outputs": [
    {
     "name": "stdout",
     "output_type": "stream",
     "text": [
      "v=1,o=1,w=1,e=1,l=1,s=2,"
     ]
    }
   ],
   "source": [
    "for char,count in char_count.items():\n",
    "    print(f\"{char}={count}\",end=\",\")"
   ]
  },
  {
   "cell_type": "markdown",
   "metadata": {},
   "source": [
    "### 11. Factorial of a number"
   ]
  },
  {
   "cell_type": "code",
   "execution_count": null,
   "metadata": {},
   "outputs": [
    {
     "name": "stdout",
     "output_type": "stream",
     "text": [
      "120\n"
     ]
    }
   ],
   "source": [
    "def factorial_num(num):\n",
    "    i=1\n",
    "    sum=1\n",
    "    while(i<=num):\n",
    "        sum=sum*i\n",
    "        i+=1\n",
    "    return sum    \n",
    "\n",
    "\n",
    "num=int(input(\"Number\"))\n",
    "factorial=factorial_num(num)\n",
    "print(factorial)"
   ]
  },
  {
   "cell_type": "markdown",
   "metadata": {},
   "source": [
    "### 12.Merge two dictionaries"
   ]
  },
  {
   "cell_type": "code",
   "execution_count": 48,
   "metadata": {},
   "outputs": [],
   "source": [
    "dict1={'apple1':3500,\n",
    "      'lenovo':2300,\n",
    "       'hp':3400,\n",
    "        'del':1500}\n",
    "dict2= {'polo':2334,\n",
    "       'honda':3434,\n",
    "       'i10':3366,\n",
    "       'i20':8344}"
   ]
  },
  {
   "cell_type": "code",
   "execution_count": 50,
   "metadata": {},
   "outputs": [],
   "source": [
    "d3={**dict1,**dict2}"
   ]
  },
  {
   "cell_type": "code",
   "execution_count": 51,
   "metadata": {},
   "outputs": [
    {
     "data": {
      "text/plain": [
       "{'apple1': 3500,\n",
       " 'lenovo': 2300,\n",
       " 'hp': 3400,\n",
       " 'del': 1500,\n",
       " 'polo': 2334,\n",
       " 'honda': 3434,\n",
       " 'i10': 3366,\n",
       " 'i20': 8344}"
      ]
     },
     "execution_count": 51,
     "metadata": {},
     "output_type": "execute_result"
    }
   ],
   "source": [
    "d3"
   ]
  },
  {
   "cell_type": "code",
   "execution_count": 54,
   "metadata": {},
   "outputs": [
    {
     "name": "stdout",
     "output_type": "stream",
     "text": [
      "{'apple1': 3500, 'lenovo': 2300, 'hp': 3400, 'del': 1500}\n"
     ]
    }
   ],
   "source": [
    "## copy one dictionary to other\n",
    "d4=dict1.copy()\n",
    "print(d4)"
   ]
  },
  {
   "cell_type": "markdown",
   "metadata": {},
   "source": [
    "### 13.find the largest and smallest from a list"
   ]
  },
  {
   "cell_type": "code",
   "execution_count": null,
   "metadata": {},
   "outputs": [],
   "source": [
    "#list=[87,39,90,76,29,10,39]\n",
    "for i in num:\n",
    "    list=input(\"enter the list of 5 elements\")\n"
   ]
  },
  {
   "cell_type": "code",
   "execution_count": 65,
   "metadata": {},
   "outputs": [
    {
     "name": "stdout",
     "output_type": "stream",
     "text": [
      "largest 90 smallest 10\n"
     ]
    }
   ],
   "source": [
    "largest=smallest=list[0]\n",
    "for i in list:\n",
    "    if i>=largest:\n",
    "        largest=i\n",
    "    elif i<=smallest:\n",
    "        smallest=i\n",
    "\n",
    "print(\"largest\",largest,\"smallest\",smallest)"
   ]
  },
  {
   "cell_type": "code",
   "execution_count": null,
   "metadata": {},
   "outputs": [],
   "source": []
  }
 ],
 "metadata": {
  "kernelspec": {
   "display_name": "Python 3",
   "language": "python",
   "name": "python3"
  },
  "language_info": {
   "codemirror_mode": {
    "name": "ipython",
    "version": 3
   },
   "file_extension": ".py",
   "mimetype": "text/x-python",
   "name": "python",
   "nbconvert_exporter": "python",
   "pygments_lexer": "ipython3",
   "version": "3.12.6"
  }
 },
 "nbformat": 4,
 "nbformat_minor": 2
}
