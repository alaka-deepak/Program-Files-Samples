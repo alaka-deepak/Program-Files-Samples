{
 "cells": [
  {
   "cell_type": "markdown",
   "metadata": {},
   "source": [
    "### Python Basics\n"
   ]
  },
  {
   "cell_type": "code",
   "execution_count": 19,
   "metadata": {},
   "outputs": [
    {
     "name": "stdout",
     "output_type": "stream",
     "text": [
      "704.0\n",
      "54\n"
     ]
    }
   ],
   "source": [
    "# getting as string\n",
    "name=input(\"Enter your name\")\n",
    "birth_year=input(\"birth year?\")\n",
    "age=2024-int(birth_year)\n",
    "print(float(age))\n",
    "\n",
    "num=int(input(\"Enter your age\"))\n",
    "print(num)\n"
   ]
  },
  {
   "cell_type": "markdown",
   "metadata": {},
   "source": [
    "### Assigning multiple values to multiple variables"
   ]
  },
  {
   "cell_type": "code",
   "execution_count": 6,
   "metadata": {},
   "outputs": [
    {
     "name": "stdout",
     "output_type": "stream",
     "text": [
      "5 3.2 hello\n"
     ]
    }
   ],
   "source": [
    "a,b,c=5,3.2,'hello'\n",
    "print(a,b,c)"
   ]
  },
  {
   "cell_type": "markdown",
   "metadata": {},
   "source": [
    "### Type conversion"
   ]
  },
  {
   "cell_type": "code",
   "execution_count": null,
   "metadata": {},
   "outputs": [
    {
     "data": {
      "text/plain": [
       "'5'"
      ]
     },
     "execution_count": 12,
     "metadata": {},
     "output_type": "execute_result"
    }
   ],
   "source": [
    "# Implicit type conversion -Automatically convert from one type to another\n",
    "# Explicit  - convert to the required data type.\n",
    "# Conversion of lower to higher to data loss\n",
    "type(a)\n",
    "str(a)"
   ]
  },
  {
   "cell_type": "code",
   "execution_count": 17,
   "metadata": {},
   "outputs": [
    {
     "name": "stdout",
     "output_type": "stream",
     "text": [
      "Hai! Good morning.It is awesome\n",
      "New year.2023.See you soon!\n"
     ]
    }
   ],
   "source": [
    "print(\"Hai! Good morning\", end='.')\n",
    "print(\"It is awesome\")\n",
    "print('New year',2023,'See you soon!',sep=\".\")"
   ]
  },
  {
   "cell_type": "markdown",
   "metadata": {},
   "source": [
    "#### Calculator\n"
   ]
  },
  {
   "cell_type": "code",
   "execution_count": 6,
   "metadata": {},
   "outputs": [],
   "source": [
    "first=input(\"First number\")\n",
    "second=input(\"Second number\")\n",
    "sum=float(first)+float(second)"
   ]
  },
  {
   "cell_type": "code",
   "execution_count": 7,
   "metadata": {},
   "outputs": [
    {
     "name": "stdout",
     "output_type": "stream",
     "text": [
      "sum is 56.0\n"
     ]
    }
   ],
   "source": [
    "print(\"sum is\",sum)"
   ]
  },
  {
   "cell_type": "markdown",
   "metadata": {},
   "source": [
    "### Operators\n",
    "\n",
    "<li>Arithmetic\n",
    "<li>Assignment\n",
    "<li>Comparison\n",
    "<li>Logical\n",
    "<li>Bitwise\n",
    "<li>Special"
   ]
  },
  {
   "cell_type": "code",
   "execution_count": null,
   "metadata": {},
   "outputs": [
    {
     "name": "stdout",
     "output_type": "stream",
     "text": [
      "Sum 33\n",
      "Multiplication 230\n",
      "Division 0.43478260869565216\n",
      "Floor division 0\n",
      "Modulo 10\n",
      "Power 100000000000000000000000\n"
     ]
    }
   ],
   "source": [
    "# Arithmetic\n",
    "\n",
    "a=10\n",
    "b=23\n",
    "print('Sum',a+b)\n",
    "print('Multiplication',a*b)\n",
    "print('Division',a/b)\n",
    "print('Floor division',a//b)\n",
    "print('Modulo',a%b)\n",
    "print('Power',a**b)"
   ]
  },
  {
   "cell_type": "code",
   "execution_count": null,
   "metadata": {},
   "outputs": [
    {
     "name": "stdout",
     "output_type": "stream",
     "text": [
      "24\n",
      "True\n"
     ]
    }
   ],
   "source": [
    "#Assignment\n",
    "\n",
    "a=20\n",
    "b=4\n",
    "a+=b\n",
    "print(a)\n",
    "#Comparison\n",
    "print(a>b)"
   ]
  },
  {
   "cell_type": "code",
   "execution_count": 19,
   "metadata": {},
   "outputs": [
    {
     "name": "stdout",
     "output_type": "stream",
     "text": [
      "a == b = False\n",
      "a != b = True\n",
      "a > b = True\n",
      "a < b = False\n",
      "a >= b = True\n",
      "a <= b = False\n"
     ]
    }
   ],
   "source": [
    "a = 5\n",
    "\n",
    "b = 2\n",
    "\n",
    "# equal to operator\n",
    "print('a == b =', a == b)\n",
    "\n",
    "# not equal to operator\n",
    "print('a != b =', a != b)\n",
    "\n",
    "# greater than operator\n",
    "print('a > b =', a > b)\n",
    "\n",
    "# less than operator\n",
    "print('a < b =', a < b)\n",
    "\n",
    "# greater than or equal to operator\n",
    "print('a >= b =', a >= b)\n",
    "\n",
    "# less than or equal to operator\n",
    "print('a <= b =', a <= b)"
   ]
  },
  {
   "cell_type": "code",
   "execution_count": 21,
   "metadata": {},
   "outputs": [
    {
     "name": "stdout",
     "output_type": "stream",
     "text": [
      "True\n"
     ]
    }
   ],
   "source": [
    "# Logical operators\n",
    "print((a>2) or (b>6))"
   ]
  },
  {
   "cell_type": "code",
   "execution_count": null,
   "metadata": {},
   "outputs": [
    {
     "name": "stdout",
     "output_type": "stream",
     "text": [
      "True\n",
      "False\n",
      "True\n",
      "False\n"
     ]
    }
   ],
   "source": [
    "# logical AND\n",
    "print(True and True)   \n",
    "print(True and False)    \n",
    "\n",
    "# logical OR\n",
    "print(True or False)    \n",
    "\n",
    "# logical NOT\n",
    "print(not True)       "
   ]
  },
  {
   "cell_type": "code",
   "execution_count": null,
   "metadata": {},
   "outputs": [
    {
     "name": "stdout",
     "output_type": "stream",
     "text": [
      "a= 23 0b10111 0b10\n",
      "-24 -0b11000\n",
      "result of left shift 92 0b1011100\n"
     ]
    }
   ],
   "source": [
    "#Bitwise operator\n",
    "a=23\n",
    "print('a=',a,bin(a),bin(b))\n",
    "c=~a\n",
    "print(c,bin(c))\n",
    "c=a<<2\n",
    "print(\"result of left shift\",c,bin(c))\n"
   ]
  },
  {
   "cell_type": "code",
   "execution_count": 32,
   "metadata": {},
   "outputs": [
    {
     "name": "stdout",
     "output_type": "stream",
     "text": [
      "False\n"
     ]
    }
   ],
   "source": [
    "#Logical operator\n",
    "per=6\n",
    "print(not(per>3 and per<10))"
   ]
  },
  {
   "cell_type": "code",
   "execution_count": 35,
   "metadata": {},
   "outputs": [
    {
     "name": "stdout",
     "output_type": "stream",
     "text": [
      "please move forward\n",
      "hey , i am here\n"
     ]
    }
   ],
   "source": [
    "a=100\n",
    "b=25\n",
    "list=[1,2,3,4,5,6]\n",
    "if a in list:\n",
    "    print(\"element is here\")\n",
    "else:\n",
    "    print(\"please move forward\")\n",
    "    \n",
    "c=a/b\n",
    "if c not in list:\n",
    "    print(\"not found\")\n",
    "else:\n",
    "    print('hey , i am here')\n"
   ]
  },
  {
   "cell_type": "code",
   "execution_count": 37,
   "metadata": {},
   "outputs": [
    {
     "name": "stdout",
     "output_type": "stream",
     "text": [
      "False\n"
     ]
    }
   ],
   "source": [
    "#identity operator is , is not\n",
    "a=[1,2,3,4,5]\n",
    "b=[54,66,3,7]\n",
    "c=a\n",
    "\n",
    "print(a is not c)\n"
   ]
  },
  {
   "cell_type": "code",
   "execution_count": 2,
   "metadata": {},
   "outputs": [
    {
     "name": "stdout",
     "output_type": "stream",
     "text": [
      "True\n",
      "True\n"
     ]
    }
   ],
   "source": [
    "price=5\n",
    "print(price>=10 or price<=5)\n",
    "print(not price >10)"
   ]
  },
  {
   "cell_type": "markdown",
   "metadata": {},
   "source": [
    "### Conditional statements"
   ]
  },
  {
   "cell_type": "code",
   "execution_count": 28,
   "metadata": {},
   "outputs": [
    {
     "name": "stdout",
     "output_type": "stream",
     "text": [
      "Your grade B and class is second\n"
     ]
    }
   ],
   "source": [
    "mark=int(input(\"ENter the mark of the student\"))\n",
    "def scorefuc(m):\n",
    "    if (mark >=90):\n",
    "        grade='A'\n",
    "        clas=\"first\"\n",
    "    elif (mark>=75 or mark<90):\n",
    "        grade='B'\n",
    "        clas=\"second\"\n",
    "    elif(mark>=65 or mark<75):\n",
    "        grade='C'\n",
    "        clas=\"third\"\n",
    "    else:\n",
    "        print(\"Try again\")\n",
    "    return grade,clas    \n",
    "\n",
    "g,cla=scorefuc(mark)\n",
    "print(\"Your grade\",g,\"and class is\",cla)"
   ]
  },
  {
   "cell_type": "code",
   "execution_count": 39,
   "metadata": {},
   "outputs": [
    {
     "name": "stdout",
     "output_type": "stream",
     "text": [
      "English\n",
      "-------\n",
      "konkini\n",
      "-------\n",
      "odissi\n",
      "-------\n",
      "P\n",
      "y\n",
      "t\n",
      "h\n",
      "o\n",
      "n\n",
      "0\n",
      "1\n",
      "2\n",
      "3\n"
     ]
    }
   ],
   "source": [
    "lan=['English','konkini','odissi']\n",
    "for la in lan:\n",
    "    print(la) \n",
    "    print('-------')\n",
    "\n",
    "language='Python'\n",
    "for x in language:\n",
    "    print(x)    \n",
    "for x in range(4):\n",
    "    print(x)"
   ]
  },
  {
   "cell_type": "markdown",
   "metadata": {},
   "source": [
    "range(stop)\n",
    "range(start,stop)\n",
    "range(start,stop,step)"
   ]
  },
  {
   "cell_type": "code",
   "execution_count": 40,
   "metadata": {},
   "outputs": [
    {
     "name": "stdout",
     "output_type": "stream",
     "text": [
      "0\n",
      "2\n",
      "4\n",
      "6\n",
      "8\n"
     ]
    }
   ],
   "source": [
    "for i in range(0,10,2):\n",
    "    print(i)"
   ]
  },
  {
   "cell_type": "code",
   "execution_count": 5,
   "metadata": {},
   "outputs": [
    {
     "name": "stdout",
     "output_type": "stream",
     "text": [
      "n\n",
      "o\n",
      "h\n",
      "t\n",
      "y\n",
      "p\n",
      "e\n",
      "r\n",
      "o\n",
      "l\n",
      "p\n",
      "x\n",
      "e\n"
     ]
    }
   ],
   "source": [
    "# continue - loop control statement, \n",
    "''' forces to execute the next iteration of the loop skipping the current iteration only'''\n",
    "\n",
    "for i in 'explorepython':\n",
    "    if i=='e' or i=='o':\n",
    "        continue\n",
    "    # print(i)\n",
    "\n",
    "text='explorepython'\n",
    "for i in text[::-1]:\n",
    "    print(i)"
   ]
  },
  {
   "cell_type": "code",
   "execution_count": 49,
   "metadata": {},
   "outputs": [
    {
     "name": "stdout",
     "output_type": "stream",
     "text": [
      "1\n",
      "2\n",
      "3\n",
      "4\n",
      "5\n",
      "8\n",
      "7\n"
     ]
    }
   ],
   "source": [
    "# for i in range(1,11):\n",
    "#     if i==6:\n",
    "#         continue\n",
    "#     else:\n",
    "#         print(i)\n",
    "\n",
    " #nested loops\n",
    "nested_list=[[1,2,3],[4,5,6],[6,8,7]]\n",
    "for i in nested_list:\n",
    "    for j in i:\n",
    "        if j==6:\n",
    "            continue\n",
    "        print(j)\n",
    "       "
   ]
  },
  {
   "cell_type": "markdown",
   "metadata": {},
   "source": [
    "### While loop"
   ]
  },
  {
   "cell_type": "code",
   "execution_count": 54,
   "metadata": {},
   "outputs": [
    {
     "name": "stdout",
     "output_type": "stream",
     "text": [
      "0\n",
      "1\n",
      "2\n",
      "3\n",
      "4\n",
      "6\n",
      "7\n",
      "8\n",
      "9\n"
     ]
    }
   ],
   "source": [
    "# Print the numbers between 0 to 10 not 5\n",
    "\n",
    "i=0\n",
    "while i<10:\n",
    "    if i==5:\n",
    "        i+=1\n",
    "        continue\n",
    "    print(i)\n",
    "    i+=1"
   ]
  },
  {
   "cell_type": "code",
   "execution_count": 55,
   "metadata": {},
   "outputs": [
    {
     "name": "stdout",
     "output_type": "stream",
     "text": [
      "0\n",
      "1\n",
      "2\n",
      "3\n",
      "4\n",
      "6\n",
      "7\n",
      "8\n",
      "9\n"
     ]
    }
   ],
   "source": [
    "for i in range(10):\n",
    "    if i==5:\n",
    "        continue\n",
    "    print(i)"
   ]
  },
  {
   "cell_type": "code",
   "execution_count": 1,
   "metadata": {},
   "outputs": [
    {
     "name": "stdout",
     "output_type": "stream",
     "text": [
      "1\n",
      "2\n",
      "3\n",
      "4\n",
      "5\n",
      "6\n",
      "7\n",
      "8\n",
      "9\n",
      "10\n"
     ]
    }
   ],
   "source": [
    "number=1\n",
    "while number<=10:\n",
    "    print(number)\n",
    "    number+=1"
   ]
  },
  {
   "cell_type": "code",
   "execution_count": null,
   "metadata": {},
   "outputs": [],
   "source": []
  }
 ],
 "metadata": {
  "kernelspec": {
   "display_name": "Python 3",
   "language": "python",
   "name": "python3"
  },
  "language_info": {
   "codemirror_mode": {
    "name": "ipython",
    "version": 3
   },
   "file_extension": ".py",
   "mimetype": "text/x-python",
   "name": "python",
   "nbconvert_exporter": "python",
   "pygments_lexer": "ipython3",
   "version": "3.12.6"
  }
 },
 "nbformat": 4,
 "nbformat_minor": 2
}
