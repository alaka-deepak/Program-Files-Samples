{
 "cells": [
  {
   "cell_type": "markdown",
   "metadata": {},
   "source": [
    "### Python Basics\n"
   ]
  },
  {
   "cell_type": "code",
   "execution_count": 3,
   "metadata": {},
   "outputs": [
    {
     "data": {
      "text/plain": [
       "38.0"
      ]
     },
     "execution_count": 3,
     "metadata": {},
     "output_type": "execute_result"
    }
   ],
   "source": [
    "# getting as string\n",
    "name=input(\"Enter your name\")\n",
    "birth_year=input(\"birth year?\")\n",
    "age=2024-int(birth_year)\n",
    "float(age)\n"
   ]
  },
  {
   "cell_type": "markdown",
   "metadata": {},
   "source": [
    "#### Calculator\n"
   ]
  },
  {
   "cell_type": "code",
   "execution_count": 6,
   "metadata": {},
   "outputs": [],
   "source": [
    "first=input(\"First number\")\n",
    "second=input(\"Second number\")\n",
    "sum=float(first)+float(second)"
   ]
  },
  {
   "cell_type": "code",
   "execution_count": 7,
   "metadata": {},
   "outputs": [
    {
     "name": "stdout",
     "output_type": "stream",
     "text": [
      "sum is 56.0\n"
     ]
    }
   ],
   "source": [
    "print(\"sum is\",sum)"
   ]
  },
  {
   "cell_type": "markdown",
   "metadata": {},
   "source": [
    "### Operators\n",
    "\n",
    "<li>Arithmetic\n",
    "<li>Assignment\n",
    "<li>Comparison\n",
    "<li>Logical\n",
    "<li>Bitwise\n",
    "<li>Special"
   ]
  },
  {
   "cell_type": "code",
   "execution_count": null,
   "metadata": {},
   "outputs": [
    {
     "name": "stdout",
     "output_type": "stream",
     "text": [
      "Sum 33\n",
      "Multiplication 230\n",
      "Division 0.43478260869565216\n",
      "Floor division 0\n",
      "Modulo 10\n",
      "Power 100000000000000000000000\n"
     ]
    }
   ],
   "source": [
    "# Arithmetic\n",
    "\n",
    "a=10\n",
    "b=23\n",
    "print('Sum',a+b)\n",
    "print('Multiplication',a*b)\n",
    "print('Division',a/b)\n",
    "print('Floor division',a//b)\n",
    "print('Modulo',a%b)\n",
    "print('Power',a**b)"
   ]
  },
  {
   "cell_type": "code",
   "execution_count": null,
   "metadata": {},
   "outputs": [
    {
     "name": "stdout",
     "output_type": "stream",
     "text": [
      "24\n",
      "True\n"
     ]
    }
   ],
   "source": [
    "#Assignment\n",
    "a=20\n",
    "b=4\n",
    "a+=b\n",
    "print(a)\n",
    "#Comparison\n",
    "print(a>b)\n",
    "\n"
   ]
  },
  {
   "cell_type": "code",
   "execution_count": 19,
   "metadata": {},
   "outputs": [
    {
     "name": "stdout",
     "output_type": "stream",
     "text": [
      "a == b = False\n",
      "a != b = True\n",
      "a > b = True\n",
      "a < b = False\n",
      "a >= b = True\n",
      "a <= b = False\n"
     ]
    }
   ],
   "source": [
    "a = 5\n",
    "\n",
    "b = 2\n",
    "\n",
    "# equal to operator\n",
    "print('a == b =', a == b)\n",
    "\n",
    "# not equal to operator\n",
    "print('a != b =', a != b)\n",
    "\n",
    "# greater than operator\n",
    "print('a > b =', a > b)\n",
    "\n",
    "# less than operator\n",
    "print('a < b =', a < b)\n",
    "\n",
    "# greater than or equal to operator\n",
    "print('a >= b =', a >= b)\n",
    "\n",
    "# less than or equal to operator\n",
    "print('a <= b =', a <= b)"
   ]
  },
  {
   "cell_type": "code",
   "execution_count": null,
   "metadata": {},
   "outputs": [],
   "source": [
    "# Logical operators\n"
   ]
  }
 ],
 "metadata": {
  "kernelspec": {
   "display_name": ".venv",
   "language": "python",
   "name": "python3"
  },
  "language_info": {
   "codemirror_mode": {
    "name": "ipython",
    "version": 3
   },
   "file_extension": ".py",
   "mimetype": "text/x-python",
   "name": "python",
   "nbconvert_exporter": "python",
   "pygments_lexer": "ipython3",
   "version": "3.9.6"
  }
 },
 "nbformat": 4,
 "nbformat_minor": 2
}
