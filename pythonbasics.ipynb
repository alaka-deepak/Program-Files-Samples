{
 "cells": [
  {
   "cell_type": "markdown",
   "metadata": {},
   "source": [
    "### Python Basics\n"
   ]
  },
  {
   "cell_type": "code",
   "execution_count": 3,
   "metadata": {},
   "outputs": [
    {
     "data": {
      "text/plain": [
       "38.0"
      ]
     },
     "execution_count": 3,
     "metadata": {},
     "output_type": "execute_result"
    }
   ],
   "source": [
    "# getting as string\n",
    "name=input(\"Enter your name\")\n",
    "birth_year=input(\"birth year?\")\n",
    "age=2024-int(birth_year)\n",
    "float(age)\n"
   ]
  },
  {
   "cell_type": "markdown",
   "metadata": {},
   "source": [
    "#### Calculator\n"
   ]
  },
  {
   "cell_type": "code",
   "execution_count": 6,
   "metadata": {},
   "outputs": [],
   "source": [
    "first=input(\"First number\")\n",
    "second=input(\"Second number\")\n",
    "sum=float(first)+float(second)"
   ]
  },
  {
   "cell_type": "code",
   "execution_count": 7,
   "metadata": {},
   "outputs": [
    {
     "name": "stdout",
     "output_type": "stream",
     "text": [
      "sum is 56.0\n"
     ]
    }
   ],
   "source": [
    "print(\"sum is\",sum)"
   ]
  },
  {
   "cell_type": "markdown",
   "metadata": {},
   "source": [
    "### Operators\n",
    "\n",
    "<li>Arithmetic\n",
    "<li>Assignment\n",
    "<li>Comparison\n",
    "<li>Logical\n",
    "<li>Bitwise\n",
    "<li>Special"
   ]
  },
  {
   "cell_type": "code",
   "execution_count": null,
   "metadata": {},
   "outputs": [
    {
     "name": "stdout",
     "output_type": "stream",
     "text": [
      "Sum 33\n",
      "Multiplication 230\n",
      "Division 0.43478260869565216\n",
      "Floor division 0\n",
      "Modulo 10\n",
      "Power 100000000000000000000000\n"
     ]
    }
   ],
   "source": [
    "# Arithmetic\n",
    "\n",
    "a=10\n",
    "b=23\n",
    "print('Sum',a+b)\n",
    "print('Multiplication',a*b)\n",
    "print('Division',a/b)\n",
    "print('Floor division',a//b)\n",
    "print('Modulo',a%b)\n",
    "print('Power',a**b)"
   ]
  },
  {
   "cell_type": "code",
   "execution_count": null,
   "metadata": {},
   "outputs": [
    {
     "name": "stdout",
     "output_type": "stream",
     "text": [
      "24\n",
      "True\n"
     ]
    }
   ],
   "source": [
    "#Assignment\n",
    "\n",
    "a=20\n",
    "b=4\n",
    "a+=b\n",
    "print(a)\n",
    "#Comparison\n",
    "print(a>b)"
   ]
  },
  {
   "cell_type": "code",
   "execution_count": 19,
   "metadata": {},
   "outputs": [
    {
     "name": "stdout",
     "output_type": "stream",
     "text": [
      "a == b = False\n",
      "a != b = True\n",
      "a > b = True\n",
      "a < b = False\n",
      "a >= b = True\n",
      "a <= b = False\n"
     ]
    }
   ],
   "source": [
    "a = 5\n",
    "\n",
    "b = 2\n",
    "\n",
    "# equal to operator\n",
    "print('a == b =', a == b)\n",
    "\n",
    "# not equal to operator\n",
    "print('a != b =', a != b)\n",
    "\n",
    "# greater than operator\n",
    "print('a > b =', a > b)\n",
    "\n",
    "# less than operator\n",
    "print('a < b =', a < b)\n",
    "\n",
    "# greater than or equal to operator\n",
    "print('a >= b =', a >= b)\n",
    "\n",
    "# less than or equal to operator\n",
    "print('a <= b =', a <= b)"
   ]
  },
  {
   "cell_type": "code",
   "execution_count": 21,
   "metadata": {},
   "outputs": [
    {
     "name": "stdout",
     "output_type": "stream",
     "text": [
      "True\n"
     ]
    }
   ],
   "source": [
    "# Logical operators\n",
    "print((a>2) or (b>6))"
   ]
  },
  {
   "cell_type": "code",
   "execution_count": null,
   "metadata": {},
   "outputs": [
    {
     "name": "stdout",
     "output_type": "stream",
     "text": [
      "True\n",
      "False\n",
      "True\n",
      "False\n"
     ]
    }
   ],
   "source": [
    "# logical AND\n",
    "print(True and True)   \n",
    "print(True and False)    \n",
    "\n",
    "# logical OR\n",
    "print(True or False)    \n",
    "\n",
    "# logical NOT\n",
    "print(not True)       "
   ]
  },
  {
   "cell_type": "code",
   "execution_count": 30,
   "metadata": {},
   "outputs": [
    {
     "name": "stdout",
     "output_type": "stream",
     "text": [
      "a= 23 0b10111 0b10\n",
      "-24 -0b11000\n",
      "result of left shift 92 0b1011100\n"
     ]
    }
   ],
   "source": [
    "#Bitwise operator\n",
    "a=23\n",
    "print('a=',a,bin(a),bin(b))\n",
    "c=~a\n",
    "print(c,bin(c))\n",
    "c=a<<2;\n",
    "print(\"result of left shift\",c,bin(c))\n"
   ]
  },
  {
   "cell_type": "code",
   "execution_count": 32,
   "metadata": {},
   "outputs": [
    {
     "name": "stdout",
     "output_type": "stream",
     "text": [
      "False\n"
     ]
    }
   ],
   "source": [
    "#Logical operator\n",
    "per=6\n",
    "print(not(per>3 and per<10))"
   ]
  },
  {
   "cell_type": "code",
   "execution_count": 35,
   "metadata": {},
   "outputs": [
    {
     "name": "stdout",
     "output_type": "stream",
     "text": [
      "please move forward\n",
      "hey , i am here\n"
     ]
    }
   ],
   "source": [
    "a=100\n",
    "b=25\n",
    "list=[1,2,3,4,5,6]\n",
    "if a in list:\n",
    "    print(\"element is here\")\n",
    "else:\n",
    "    print(\"please move forward\")\n",
    "    \n",
    "c=a/b\n",
    "if c not in list:\n",
    "    print(\"not found\")\n",
    "else:\n",
    "    print('hey , i am here')\n"
   ]
  },
  {
   "cell_type": "code",
   "execution_count": 37,
   "metadata": {},
   "outputs": [
    {
     "name": "stdout",
     "output_type": "stream",
     "text": [
      "False\n"
     ]
    }
   ],
   "source": [
    "#identity operator is , is not\n",
    "a=[1,2,3,4,5]\n",
    "b=[54,66,3,7]\n",
    "c=a\n",
    "\n",
    "print(a is not c)\n"
   ]
  },
  {
   "cell_type": "code",
   "execution_count": null,
   "metadata": {},
   "outputs": [],
   "source": []
  }
 ],
 "metadata": {
  "kernelspec": {
   "display_name": ".venv",
   "language": "python",
   "name": "python3"
  },
  "language_info": {
   "codemirror_mode": {
    "name": "ipython",
    "version": 3
   },
   "file_extension": ".py",
   "mimetype": "text/x-python",
   "name": "python",
   "nbconvert_exporter": "python",
   "pygments_lexer": "ipython3",
   "version": "3.9.6"
  }
 },
 "nbformat": 4,
 "nbformat_minor": 2
}
